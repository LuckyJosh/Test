{
 "cells": [
  {
   "cell_type": "code",
   "execution_count": 1,
   "metadata": {},
   "outputs": [
    {
     "name": "stderr",
     "output_type": "stream",
     "text": [
      "Using TensorFlow backend.\n"
     ]
    }
   ],
   "source": [
    "%matplotlib inline\n",
    "import numpy as np\n",
    "import h5py\n",
    "import tables\n",
    "import pandas as pd\n",
    "import os\n",
    "import sys\n",
    "import glob\n",
    "import matplotlib.pyplot as plt\n",
    "from mpl_toolkits.mplot3d import axes3d\n",
    "import matplotlib as mpl\n",
    "import pickle\n",
    "import re\n",
    "import keras\n",
    "from collections import defaultdict\n",
    "import warnings\n",
    "from functools import lru_cache\n",
    "# import seaborn as sns"
   ]
  },
  {
   "cell_type": "code",
   "execution_count": 3,
   "metadata": {
    "collapsed": true
   },
   "outputs": [],
   "source": [
    "mpl.rcParams[\"figure.figsize\"] = (8,5)"
   ]
  },
  {
   "cell_type": "code",
   "execution_count": 2,
   "metadata": {},
   "outputs": [
    {
     "data": {
      "text/plain": [
       "[]"
      ]
     },
     "execution_count": 2,
     "metadata": {},
     "output_type": "execute_result"
    }
   ],
   "source": [
    "hdf5_files = sorted(glob.glob(\"*.hdf5\"))\n",
    "hdf5_files"
   ]
  },
  {
   "cell_type": "code",
   "execution_count": 12,
   "metadata": {
    "collapsed": true
   },
   "outputs": [],
   "source": [
    "\n",
    "f = pd.HDFStore(hdf5_files[0], \"r\")\n"
   ]
  },
  {
   "cell_type": "code",
   "execution_count": 13,
   "metadata": {},
   "outputs": [
    {
     "data": {
      "text/plain": [
       "[]"
      ]
     },
     "execution_count": 13,
     "metadata": {},
     "output_type": "execute_result"
    }
   ],
   "source": [
    "f.keys()"
   ]
  },
  {
   "cell_type": "code",
   "execution_count": 14,
   "metadata": {},
   "outputs": [
    {
     "data": {
      "text/plain": [
       "['../hdf/Level2_nugen_numu_IC86.2012.011069.000000.hdf5',\n",
       " '../hdf/Level2_nugen_numu_IC86.2012.011069.000001.hdf5',\n",
       " '../hdf/Level2_nugen_numu_IC86.2012.011069.000002.hdf5',\n",
       " '../hdf/test.hdf5']"
      ]
     },
     "execution_count": 14,
     "metadata": {},
     "output_type": "execute_result"
    }
   ],
   "source": [
    "hdf5_files = sorted(glob.glob(\"../hdf/*.hdf5\"))\n",
    "hdf5_files"
   ]
  },
  {
   "cell_type": "code",
   "execution_count": 15,
   "metadata": {
    "collapsed": true
   },
   "outputs": [],
   "source": [
    "regex_mcd = re.compile(\"Level\\d_\\w*_\\w*_IC\\d{2}.\\d{4}.(\\d{6}).(\\d{6}).hdf5\")"
   ]
  },
  {
   "cell_type": "code",
   "execution_count": 16,
   "metadata": {
    "collapsed": true
   },
   "outputs": [],
   "source": [
    "match = regex_mcd.search(hdf5_files[0])"
   ]
  },
  {
   "cell_type": "code",
   "execution_count": 17,
   "metadata": {},
   "outputs": [
    {
     "data": {
      "text/plain": [
       "'../hdf/Level2_nugen_numu_IC86.2012.011069.000000.hdf5'"
      ]
     },
     "execution_count": 17,
     "metadata": {},
     "output_type": "execute_result"
    }
   ],
   "source": [
    "match.string"
   ]
  },
  {
   "cell_type": "code",
   "execution_count": 18,
   "metadata": {},
   "outputs": [
    {
     "name": "stdout",
     "output_type": "stream",
     "text": [
      "../hdf/Level2_nugen_numu_IC86.2012.011069.000000.hdf5\n",
      "('011069', '000000')\n",
      "../hdf/Level2_nugen_numu_IC86.2012.011069.000001.hdf5\n",
      "('011069', '000001')\n",
      "../hdf/Level2_nugen_numu_IC86.2012.011069.000002.hdf5\n",
      "('011069', '000002')\n"
     ]
    }
   ],
   "source": [
    "for hdf5_file in hdf5_files:\n",
    "    match = regex_mcd.search(hdf5_file)\n",
    "    if match is not None:\n",
    "        print(match.string)\n",
    "        print(match.groups())"
   ]
  },
  {
   "cell_type": "code",
   "execution_count": 24,
   "metadata": {},
   "outputs": [
    {
     "name": "stdout",
     "output_type": "stream",
     "text": [
      "../hdf/Level2_nugen_numu_IC86.2012.011069.000000.hdf5\n"
     ]
    }
   ],
   "source": [
    "hdf5_test_file = hdf5_files[0]\n",
    "print(hdf5_test_file)"
   ]
  },
  {
   "cell_type": "code",
   "execution_count": 25,
   "metadata": {
    "collapsed": true
   },
   "outputs": [],
   "source": [
    "def get_dataframe_from_hdffile(hdf5_filename):\n",
    "    data_keys = [\"DOMPulseBinIndices\", \"DOMPulseBinValues\"]\n",
    "    hdf_file = pd.HDFStore(hdf5_filename, \"r\")\n",
    "    pos_charge_df = hdf_file[data_keys[0]].assign(charge=hdf_file[data_keys[1]].item.values)\n",
    "    pos_charge_df.rename(columns = {'item':'timebin'}, inplace = True)\n",
    "    hdf_file.close()\n",
    "    return pos_charge_df"
   ]
  },
  {
   "cell_type": "code",
   "execution_count": 26,
   "metadata": {},
   "outputs": [
    {
     "data": {
      "text/html": [
       "<div>\n",
       "<style>\n",
       "    .dataframe thead tr:only-child th {\n",
       "        text-align: right;\n",
       "    }\n",
       "\n",
       "    .dataframe thead th {\n",
       "        text-align: left;\n",
       "    }\n",
       "\n",
       "    .dataframe tbody tr th {\n",
       "        vertical-align: top;\n",
       "    }\n",
       "</style>\n",
       "<table border=\"1\" class=\"dataframe\">\n",
       "  <thead>\n",
       "    <tr style=\"text-align: right;\">\n",
       "      <th></th>\n",
       "      <th>Run</th>\n",
       "      <th>Event</th>\n",
       "      <th>SubEvent</th>\n",
       "      <th>SubEventStream</th>\n",
       "      <th>exists</th>\n",
       "      <th>string</th>\n",
       "      <th>om</th>\n",
       "      <th>pmt</th>\n",
       "      <th>vector_index</th>\n",
       "      <th>timebin</th>\n",
       "      <th>charge</th>\n",
       "    </tr>\n",
       "  </thead>\n",
       "  <tbody>\n",
       "    <tr>\n",
       "      <th>0</th>\n",
       "      <td>1106900000</td>\n",
       "      <td>1</td>\n",
       "      <td>0</td>\n",
       "      <td>1</td>\n",
       "      <td>1</td>\n",
       "      <td>1</td>\n",
       "      <td>25</td>\n",
       "      <td>0</td>\n",
       "      <td>0</td>\n",
       "      <td>9</td>\n",
       "      <td>0.775</td>\n",
       "    </tr>\n",
       "    <tr>\n",
       "      <th>1</th>\n",
       "      <td>1106900000</td>\n",
       "      <td>1</td>\n",
       "      <td>0</td>\n",
       "      <td>1</td>\n",
       "      <td>1</td>\n",
       "      <td>2</td>\n",
       "      <td>1</td>\n",
       "      <td>0</td>\n",
       "      <td>0</td>\n",
       "      <td>12</td>\n",
       "      <td>0.275</td>\n",
       "    </tr>\n",
       "    <tr>\n",
       "      <th>2</th>\n",
       "      <td>1106900000</td>\n",
       "      <td>1</td>\n",
       "      <td>0</td>\n",
       "      <td>1</td>\n",
       "      <td>1</td>\n",
       "      <td>17</td>\n",
       "      <td>6</td>\n",
       "      <td>0</td>\n",
       "      <td>0</td>\n",
       "      <td>24</td>\n",
       "      <td>1.375</td>\n",
       "    </tr>\n",
       "    <tr>\n",
       "      <th>3</th>\n",
       "      <td>1106900000</td>\n",
       "      <td>1</td>\n",
       "      <td>0</td>\n",
       "      <td>1</td>\n",
       "      <td>1</td>\n",
       "      <td>19</td>\n",
       "      <td>59</td>\n",
       "      <td>0</td>\n",
       "      <td>0</td>\n",
       "      <td>0</td>\n",
       "      <td>1.275</td>\n",
       "    </tr>\n",
       "    <tr>\n",
       "      <th>4</th>\n",
       "      <td>1106900000</td>\n",
       "      <td>1</td>\n",
       "      <td>0</td>\n",
       "      <td>1</td>\n",
       "      <td>1</td>\n",
       "      <td>19</td>\n",
       "      <td>59</td>\n",
       "      <td>0</td>\n",
       "      <td>1</td>\n",
       "      <td>24</td>\n",
       "      <td>0.375</td>\n",
       "    </tr>\n",
       "    <tr>\n",
       "      <th>5</th>\n",
       "      <td>1106900000</td>\n",
       "      <td>1</td>\n",
       "      <td>0</td>\n",
       "      <td>1</td>\n",
       "      <td>1</td>\n",
       "      <td>21</td>\n",
       "      <td>48</td>\n",
       "      <td>0</td>\n",
       "      <td>0</td>\n",
       "      <td>24</td>\n",
       "      <td>0.625</td>\n",
       "    </tr>\n",
       "    <tr>\n",
       "      <th>6</th>\n",
       "      <td>1106900000</td>\n",
       "      <td>1</td>\n",
       "      <td>0</td>\n",
       "      <td>1</td>\n",
       "      <td>1</td>\n",
       "      <td>30</td>\n",
       "      <td>31</td>\n",
       "      <td>0</td>\n",
       "      <td>0</td>\n",
       "      <td>0</td>\n",
       "      <td>1.675</td>\n",
       "    </tr>\n",
       "    <tr>\n",
       "      <th>7</th>\n",
       "      <td>1106900000</td>\n",
       "      <td>1</td>\n",
       "      <td>0</td>\n",
       "      <td>1</td>\n",
       "      <td>1</td>\n",
       "      <td>31</td>\n",
       "      <td>27</td>\n",
       "      <td>0</td>\n",
       "      <td>0</td>\n",
       "      <td>24</td>\n",
       "      <td>4.325</td>\n",
       "    </tr>\n",
       "    <tr>\n",
       "      <th>8</th>\n",
       "      <td>1106900000</td>\n",
       "      <td>1</td>\n",
       "      <td>0</td>\n",
       "      <td>1</td>\n",
       "      <td>1</td>\n",
       "      <td>31</td>\n",
       "      <td>58</td>\n",
       "      <td>0</td>\n",
       "      <td>0</td>\n",
       "      <td>0</td>\n",
       "      <td>1.175</td>\n",
       "    </tr>\n",
       "    <tr>\n",
       "      <th>9</th>\n",
       "      <td>1106900000</td>\n",
       "      <td>1</td>\n",
       "      <td>0</td>\n",
       "      <td>1</td>\n",
       "      <td>1</td>\n",
       "      <td>32</td>\n",
       "      <td>17</td>\n",
       "      <td>0</td>\n",
       "      <td>0</td>\n",
       "      <td>0</td>\n",
       "      <td>0.675</td>\n",
       "    </tr>\n",
       "  </tbody>\n",
       "</table>\n",
       "</div>"
      ],
      "text/plain": [
       "          Run  Event  SubEvent  SubEventStream  exists  string  om  pmt  \\\n",
       "0  1106900000      1         0               1       1       1  25    0   \n",
       "1  1106900000      1         0               1       1       2   1    0   \n",
       "2  1106900000      1         0               1       1      17   6    0   \n",
       "3  1106900000      1         0               1       1      19  59    0   \n",
       "4  1106900000      1         0               1       1      19  59    0   \n",
       "5  1106900000      1         0               1       1      21  48    0   \n",
       "6  1106900000      1         0               1       1      30  31    0   \n",
       "7  1106900000      1         0               1       1      31  27    0   \n",
       "8  1106900000      1         0               1       1      31  58    0   \n",
       "9  1106900000      1         0               1       1      32  17    0   \n",
       "\n",
       "   vector_index  timebin  charge  \n",
       "0             0        9   0.775  \n",
       "1             0       12   0.275  \n",
       "2             0       24   1.375  \n",
       "3             0        0   1.275  \n",
       "4             1       24   0.375  \n",
       "5             0       24   0.625  \n",
       "6             0        0   1.675  \n",
       "7             0       24   4.325  \n",
       "8             0        0   1.175  \n",
       "9             0        0   0.675  "
      ]
     },
     "execution_count": 26,
     "metadata": {},
     "output_type": "execute_result"
    }
   ],
   "source": [
    "hdf5_dataframe = get_dataframe_from_hdffile(hdf5_test_file)\n",
    "hdf5_dataframe.head(10)"
   ]
  },
  {
   "cell_type": "code",
   "execution_count": 27,
   "metadata": {
    "collapsed": true
   },
   "outputs": [],
   "source": [
    "def get_pos_charge_dataframe(hdf5_dataframe, reindex=True):\n",
    "    hdf5_dataframe.drop([\"Run\", \"SubEventStream\", \"exists\", \"pmt\", \"vector_index\"], axis=1, inplace=True)\n",
    "    if reindex:\n",
    "        hdf5_dataframe.set_index([\"Event\",\"SubEvent\",\"timebin\",\"string\",\"om\"], inplace=True)\n",
    "        hdf5_dataframe.sort_index(inplace=True)\n",
    "    return hdf5_dataframe"
   ]
  },
  {
   "cell_type": "code",
   "execution_count": 28,
   "metadata": {},
   "outputs": [
    {
     "data": {
      "text/html": [
       "<div>\n",
       "<style>\n",
       "    .dataframe thead tr:only-child th {\n",
       "        text-align: right;\n",
       "    }\n",
       "\n",
       "    .dataframe thead th {\n",
       "        text-align: left;\n",
       "    }\n",
       "\n",
       "    .dataframe tbody tr th {\n",
       "        vertical-align: top;\n",
       "    }\n",
       "</style>\n",
       "<table border=\"1\" class=\"dataframe\">\n",
       "  <thead>\n",
       "    <tr style=\"text-align: right;\">\n",
       "      <th></th>\n",
       "      <th></th>\n",
       "      <th></th>\n",
       "      <th></th>\n",
       "      <th></th>\n",
       "      <th>charge</th>\n",
       "    </tr>\n",
       "    <tr>\n",
       "      <th>Event</th>\n",
       "      <th>SubEvent</th>\n",
       "      <th>timebin</th>\n",
       "      <th>string</th>\n",
       "      <th>om</th>\n",
       "      <th></th>\n",
       "    </tr>\n",
       "  </thead>\n",
       "  <tbody>\n",
       "    <tr>\n",
       "      <th rowspan=\"10\" valign=\"top\">1</th>\n",
       "      <th rowspan=\"10\" valign=\"top\">0</th>\n",
       "      <th rowspan=\"8\" valign=\"top\">0</th>\n",
       "      <th>19</th>\n",
       "      <th>59</th>\n",
       "      <td>1.275000</td>\n",
       "    </tr>\n",
       "    <tr>\n",
       "      <th>30</th>\n",
       "      <th>31</th>\n",
       "      <td>1.675000</td>\n",
       "    </tr>\n",
       "    <tr>\n",
       "      <th>31</th>\n",
       "      <th>58</th>\n",
       "      <td>1.175000</td>\n",
       "    </tr>\n",
       "    <tr>\n",
       "      <th>32</th>\n",
       "      <th>17</th>\n",
       "      <td>0.675000</td>\n",
       "    </tr>\n",
       "    <tr>\n",
       "      <th>60</th>\n",
       "      <th>50</th>\n",
       "      <td>1.375000</td>\n",
       "    </tr>\n",
       "    <tr>\n",
       "      <th>63</th>\n",
       "      <th>37</th>\n",
       "      <td>0.925000</td>\n",
       "    </tr>\n",
       "    <tr>\n",
       "      <th>69</th>\n",
       "      <th>2</th>\n",
       "      <td>2.250000</td>\n",
       "    </tr>\n",
       "    <tr>\n",
       "      <th>86</th>\n",
       "      <th>20</th>\n",
       "      <td>1.625000</td>\n",
       "    </tr>\n",
       "    <tr>\n",
       "      <th rowspan=\"2\" valign=\"top\">2</th>\n",
       "      <th rowspan=\"2\" valign=\"top\">77</th>\n",
       "      <th>1</th>\n",
       "      <td>907.675005</td>\n",
       "    </tr>\n",
       "    <tr>\n",
       "      <th>2</th>\n",
       "      <td>1332.800013</td>\n",
       "    </tr>\n",
       "  </tbody>\n",
       "</table>\n",
       "</div>"
      ],
      "text/plain": [
       "                                       charge\n",
       "Event SubEvent timebin string om             \n",
       "1     0        0       19     59     1.275000\n",
       "                       30     31     1.675000\n",
       "                       31     58     1.175000\n",
       "                       32     17     0.675000\n",
       "                       60     50     1.375000\n",
       "                       63     37     0.925000\n",
       "                       69     2      2.250000\n",
       "                       86     20     1.625000\n",
       "               2       77     1    907.675005\n",
       "                              2   1332.800013"
      ]
     },
     "execution_count": 28,
     "metadata": {},
     "output_type": "execute_result"
    }
   ],
   "source": [
    "string_om_charge_dataframe = get_pos_charge_dataframe(hdf5_dataframe)\n",
    "string_om_charge_dataframe.head(10)"
   ]
  },
  {
   "cell_type": "code",
   "execution_count": 29,
   "metadata": {
    "collapsed": true
   },
   "outputs": [],
   "source": [
    "def get_label_dataframe(hdf5_filename):\n",
    "    label_key = \"DLClassificationLabel\"\n",
    "    columns = [\"Event\",\"SubEvent\",\"event_type\", \"event_subtype\"]\n",
    "    hdf_file = pd.HDFStore(hdf5_filename, \"r\")\n",
    "    label_df = hdf_file[label_key][columns].set_index([\"Event\",\"SubEvent\"])\n",
    "    hdf_file.close()\n",
    "    return label_df\n",
    "    "
   ]
  },
  {
   "cell_type": "code",
   "execution_count": 30,
   "metadata": {},
   "outputs": [
    {
     "data": {
      "text/html": [
       "<div>\n",
       "<style>\n",
       "    .dataframe thead tr:only-child th {\n",
       "        text-align: right;\n",
       "    }\n",
       "\n",
       "    .dataframe thead th {\n",
       "        text-align: left;\n",
       "    }\n",
       "\n",
       "    .dataframe tbody tr th {\n",
       "        vertical-align: top;\n",
       "    }\n",
       "</style>\n",
       "<table border=\"1\" class=\"dataframe\">\n",
       "  <thead>\n",
       "    <tr style=\"text-align: right;\">\n",
       "      <th></th>\n",
       "      <th></th>\n",
       "      <th>event_type</th>\n",
       "      <th>event_subtype</th>\n",
       "    </tr>\n",
       "    <tr>\n",
       "      <th>Event</th>\n",
       "      <th>SubEvent</th>\n",
       "      <th></th>\n",
       "      <th></th>\n",
       "    </tr>\n",
       "  </thead>\n",
       "  <tbody>\n",
       "    <tr>\n",
       "      <th>1</th>\n",
       "      <th>0</th>\n",
       "      <td>0</td>\n",
       "      <td>-1</td>\n",
       "    </tr>\n",
       "    <tr>\n",
       "      <th>4</th>\n",
       "      <th>0</th>\n",
       "      <td>2</td>\n",
       "      <td>-1</td>\n",
       "    </tr>\n",
       "    <tr>\n",
       "      <th>9</th>\n",
       "      <th>0</th>\n",
       "      <td>2</td>\n",
       "      <td>-1</td>\n",
       "    </tr>\n",
       "    <tr>\n",
       "      <th>14</th>\n",
       "      <th>0</th>\n",
       "      <td>1</td>\n",
       "      <td>-1</td>\n",
       "    </tr>\n",
       "    <tr>\n",
       "      <th>33</th>\n",
       "      <th>0</th>\n",
       "      <td>0</td>\n",
       "      <td>-1</td>\n",
       "    </tr>\n",
       "    <tr>\n",
       "      <th>58</th>\n",
       "      <th>0</th>\n",
       "      <td>1</td>\n",
       "      <td>-1</td>\n",
       "    </tr>\n",
       "    <tr>\n",
       "      <th>66</th>\n",
       "      <th>0</th>\n",
       "      <td>0</td>\n",
       "      <td>-1</td>\n",
       "    </tr>\n",
       "    <tr>\n",
       "      <th>69</th>\n",
       "      <th>0</th>\n",
       "      <td>2</td>\n",
       "      <td>-1</td>\n",
       "    </tr>\n",
       "    <tr>\n",
       "      <th>73</th>\n",
       "      <th>0</th>\n",
       "      <td>0</td>\n",
       "      <td>-1</td>\n",
       "    </tr>\n",
       "    <tr>\n",
       "      <th>78</th>\n",
       "      <th>0</th>\n",
       "      <td>0</td>\n",
       "      <td>-1</td>\n",
       "    </tr>\n",
       "  </tbody>\n",
       "</table>\n",
       "</div>"
      ],
      "text/plain": [
       "                event_type  event_subtype\n",
       "Event SubEvent                           \n",
       "1     0                  0             -1\n",
       "4     0                  2             -1\n",
       "9     0                  2             -1\n",
       "14    0                  1             -1\n",
       "33    0                  0             -1\n",
       "58    0                  1             -1\n",
       "66    0                  0             -1\n",
       "69    0                  2             -1\n",
       "73    0                  0             -1\n",
       "78    0                  0             -1"
      ]
     },
     "execution_count": 30,
     "metadata": {},
     "output_type": "execute_result"
    }
   ],
   "source": [
    "label_dataframe = get_label_dataframe(hdf5_test_file)\n",
    "label_dataframe.head(10)"
   ]
  },
  {
   "cell_type": "code",
   "execution_count": 31,
   "metadata": {
    "collapsed": true
   },
   "outputs": [],
   "source": [
    "def parse_labels(split_labels):\n",
    "    label_names = {\"track\":0, \"cascade\":1, \"faint\":2, \n",
    "                   \"starting_track\":3, \"stopping_track\":4,\n",
    "                   \"contained_track\":5, \"trough_track\":6,\n",
    "                   \"full_cascade\":7, \"part_cascade\":8}\n",
    "    label_dict = {(0,-1): label_names[\"track\"],\n",
    "                  (0,0): label_names[\"starting_track\"],\n",
    "                  (0,1): label_names[\"stopping_track\"],\n",
    "                  (0,2): label_names[\"contained_track\"],\n",
    "                  (0,3): label_names[\"trough_track\"],\n",
    "                  (1, -1): label_names[\"cascade\"],\n",
    "                  (1,0): label_names[\"full_cascade\"],\n",
    "                  (1,1): label_names[\"part_cascade\"],\n",
    "                  (2,-1): label_names[\"faint\"]}\n",
    "    \n",
    "    labels = np.zeros(shape=(split_labels.shape[0]), dtype=np.int32)\n",
    "    for i, label in enumerate(split_labels):\n",
    "        labels[i] = label_dict[tuple(label)]\n",
    "    return labels\n",
    "    \n",
    "def get_events_and_labels(label_dataframe):    \n",
    "    events = label_dataframe.index.values\n",
    "    labels = parse_labels(label_dataframe.values)\n",
    "    return events, labels"
   ]
  },
  {
   "cell_type": "code",
   "execution_count": 32,
   "metadata": {},
   "outputs": [
    {
     "name": "stdout",
     "output_type": "stream",
     "text": [
      "[(1, 0) (4, 0) (9, 0) (14, 0) (33, 0) (58, 0) (66, 0) (69, 0) (73, 0)\n",
      " (78, 0)]\n",
      "[0 2 2 1 0 1 0 2 0 0]\n"
     ]
    }
   ],
   "source": [
    "events, labels = get_events_and_labels(label_dataframe)\n",
    "\n",
    "print(events[:10])\n",
    "print(labels[:10])\n"
   ]
  },
  {
   "cell_type": "code",
   "execution_count": 33,
   "metadata": {
    "collapsed": true
   },
   "outputs": [],
   "source": [
    "def get_string_om_charge_by_timebin(event_dataframe):    \n",
    "    if \"Event\" in event_dataframe.index.names: \n",
    "        raise ValueError(\"'Event' column found in dataframe, but a dataframe of one specific event is needed.\")\n",
    "    elif \"SubEvent\" in event_dataframe.index.names:\n",
    "        raise ValueError(\"'SubEvent' column found in dataframe, but a dataframe of one specific event is needed.\")\n",
    "    string_om_charge_by_timebin = {}\n",
    "    string_om_charge = (i for i in zip(event_dataframe.index,event_dataframe.charge.values))\n",
    "    for soc in string_om_charge:\n",
    "        try:\n",
    "            string_om_charge_by_timebin[soc[0][0]].append((soc[0][1], soc[0][2], soc[1]))\n",
    "        except:\n",
    "            string_om_charge_by_timebin[soc[0][0]] = [(soc[0][1], soc[0][2], soc[1])]\n",
    "    string_om_charge_by_timebin = defaultdict(lambda: [], string_om_charge_by_timebin)\n",
    "    return string_om_charge_by_timebin"
   ]
  },
  {
   "cell_type": "code",
   "execution_count": 34,
   "metadata": {},
   "outputs": [
    {
     "name": "stdout",
     "output_type": "stream",
     "text": [
      "Timebin: 0\n",
      "StringOmCharge: (19, 59, 1.2749999761581421)\n",
      "StringOmCharge: (30, 31, 1.6749999523162842)\n",
      "StringOmCharge: (31, 58, 1.1749999523162842)\n",
      "StringOmCharge: (32, 17, 0.67500001192092896)\n",
      "StringOmCharge: (60, 50, 1.375)\n",
      "StringOmCharge: (63, 37, 0.92500001192092896)\n",
      "StringOmCharge: (69, 2, 2.25)\n",
      "StringOmCharge: (86, 20, 1.625)\n",
      "Timebin: 2\n",
      "StringOmCharge: (77, 1, 907.67500495910645)\n",
      "StringOmCharge: (77, 2, 1332.8000133037567)\n",
      "StringOmCharge: (77, 3, 744.37500554323196)\n",
      "StringOmCharge: (77, 4, 225.44999706745148)\n",
      "StringOmCharge: (77, 5, 1.3250000476837158)\n"
     ]
    }
   ],
   "source": [
    "time_to_soc_dict = get_string_om_charge_by_timebin(string_om_charge_dataframe.loc[1,0])\n",
    "\n",
    "for k,vl in list(time_to_soc_dict.items())[:2]:\n",
    "    print(\"Timebin: {}\".format(k))\n",
    "    for v in vl:\n",
    "        print(\"StringOmCharge: {}\".format(v))\n"
   ]
  },
  {
   "cell_type": "code",
   "execution_count": 35,
   "metadata": {
    "collapsed": true
   },
   "outputs": [],
   "source": [
    "@lru_cache(maxsize=1)\n",
    "def load_geometry_dict(geodict_path):\n",
    "    with open(geodict_path, \"rb\") as geo:\n",
    "        geodict = pickle.load(geo)\n",
    "    return geodict"
   ]
  },
  {
   "cell_type": "code",
   "execution_count": 36,
   "metadata": {},
   "outputs": [
    {
     "name": "stdout",
     "output_type": "stream",
     "text": [
      "(53, 53):((-234.9499969482422, 140.44000244140625, -385.010009765625), 'IceCube')\n",
      "(57, 50):((257.30999755859375, 211.66000366210938, -329.5899963378906), 'IceCube')\n",
      "(40, 22):((544.0700073242188, 55.88999938964844, 145.35000610351562), 'IceCube')\n"
     ]
    }
   ],
   "source": [
    "dom_geometry_dict = load_geometry_dict(\"domdict.pickle\")\n",
    "for k,v in list(dom_geometry_dict.items())[:3]:\n",
    "    print(\"{}:{}\".format(k,v))"
   ]
  },
  {
   "cell_type": "code",
   "execution_count": 37,
   "metadata": {
    "collapsed": true
   },
   "outputs": [],
   "source": [
    "def get_positions_in_timebins(timebin_position_dict, dom_geometry_dict, timebins):\n",
    "    if isinstance(timebins, int):\n",
    "        timebins = (timebins,)\n",
    "    positions = None\n",
    "    for i,timebin in enumerate(timebins):\n",
    "        current_positions = []\n",
    "        for soc in timebin_position_dict[timebin]:\n",
    "            current_positions.append(list(dom_geometry_dict[soc[0:2]][0]))        \n",
    "        if positions is not None:\n",
    "            if current_positions:\n",
    "                positions = np.vstack([positions, current_positions])\n",
    "        else:\n",
    "            positions = np.array(current_positions)\n",
    "    return positions"
   ]
  },
  {
   "cell_type": "code",
   "execution_count": 38,
   "metadata": {},
   "outputs": [
    {
     "name": "stdout",
     "output_type": "stream",
     "text": [
      "Timebin 0:\n",
      " [[ 210.47000122 -209.77000427 -490.26000977]\n",
      " [ 500.42999268  -58.45000076   -8.77000046]\n",
      " [-570.90002441 -125.13999939 -470.57998657]\n",
      " [-447.73999023 -113.12999725  228.33999634]\n",
      " [-437.04000854  217.80000305 -332.54998779]\n",
      " [ -66.69999695  276.92001343 -114.91999817]\n",
      " [-268.8999939   354.23999023  484.51000977]\n",
      " [ -10.97000027    6.71999979 -220.08000183]]\n",
      "Timebin 1:\n",
      " []\n",
      "Timebin 2:\n",
      " [[-101.05999756  490.22000122  501.48999023]\n",
      " [-101.05999756  490.22000122  484.45999146]\n",
      " [-101.05999756  490.22000122  467.44000244]\n",
      " [-101.05999756  490.22000122  450.42001343]\n",
      " [-101.05999756  490.22000122  433.3999939 ]]\n",
      "Timebin 3:\n",
      " [[ 210.47000122 -209.77000427 -490.26000977]\n",
      " [ 500.42999268  -58.45000076   -8.77000046]\n",
      " [-570.90002441 -125.13999939 -470.57998657]\n",
      " [-447.73999023 -113.12999725  228.33999634]\n",
      " [-437.04000854  217.80000305 -332.54998779]\n",
      " [ -66.69999695  276.92001343 -114.91999817]\n",
      " [-268.8999939   354.23999023  484.51000977]\n",
      " [ -10.97000027    6.71999979 -220.08000183]\n",
      " [-101.05999756  490.22000122  501.48999023]\n",
      " [-101.05999756  490.22000122  484.45999146]\n",
      " [-101.05999756  490.22000122  467.44000244]\n",
      " [-101.05999756  490.22000122  450.42001343]\n",
      " [-101.05999756  490.22000122  433.3999939 ]]\n"
     ]
    }
   ],
   "source": [
    "positions_in_timebins_0 = get_positions_in_timebins(time_to_soc_dict, dom_geometry_dict, timebins=0)\n",
    "positions_in_timebins_1 = get_positions_in_timebins(time_to_soc_dict, dom_geometry_dict, timebins=1)\n",
    "positions_in_timebins_2 = get_positions_in_timebins(time_to_soc_dict, dom_geometry_dict, timebins=2)\n",
    "positions_in_timebins_012 = get_positions_in_timebins(time_to_soc_dict, dom_geometry_dict, timebins=range(3))\n",
    "print(\"Timebin 0:\\n\", positions_in_timebins_0)\n",
    "print(\"Timebin 1:\\n\", positions_in_timebins_1)\n",
    "print(\"Timebin 2:\\n\", positions_in_timebins_2)\n",
    "print(\"Timebin 3:\\n\", positions_in_timebins_012)\n",
    "\n",
    "assert np.all(np.vstack([positions_in_timebins_0, positions_in_timebins_2]) == positions_in_timebins_012)"
   ]
  },
  {
   "cell_type": "code",
   "execution_count": 39,
   "metadata": {
    "collapsed": true
   },
   "outputs": [],
   "source": [
    "def get_charge_in_timebins(timebin_position_dict, timebins):\n",
    "    if isinstance(timebins, int):\n",
    "        timebins = (timebins,)\n",
    "    charges = []\n",
    "    for i, timebin in enumerate(timebins):\n",
    "        bin_charges = []\n",
    "        for string_om_charge in timebin_position_dict[timebin]:        \n",
    "            bin_charges.append(string_om_charge[2])\n",
    "        charges.extend(bin_charges)\n",
    "    return np.array(charges)"
   ]
  },
  {
   "cell_type": "code",
   "execution_count": 40,
   "metadata": {},
   "outputs": [
    {
     "data": {
      "text/plain": [
       "array([  1.27499998e+00,   1.67499995e+00,   1.17499995e+00,\n",
       "         6.75000012e-01,   1.37500000e+00,   9.25000012e-01,\n",
       "         2.25000000e+00,   1.62500000e+00,   9.07675005e+02,\n",
       "         1.33280001e+03,   7.44375006e+02,   2.25449997e+02,\n",
       "         1.32500005e+00])"
      ]
     },
     "execution_count": 40,
     "metadata": {},
     "output_type": "execute_result"
    }
   ],
   "source": [
    "charges_in_timebins_012 = get_charge_in_timebins(time_to_soc_dict, timebins=range(3))\n",
    "charges_in_timebins_012"
   ]
  },
  {
   "cell_type": "raw",
   "metadata": {},
   "source": [
    "def get_positions_and_charges_in_timebins(timebin_string_om_dict, timebins):\n",
    "    if isinstance(timebins, int):\n",
    "        timebins = (timebins,)\n",
    "    positions = None\n",
    "    charges = []\n",
    "    for i,timebin in enumerate(timebins):\n",
    "        current_positions = []\n",
    "        bin_charges = []\n",
    "        for string_om_charge in timebin_string_om_dict[timebin]:\n",
    "            current_positions.append(list(domdict[string_om_charge[0:2]][0]))        \n",
    "            bin_charges.append(string_om_charge[2])\n",
    "        if positions is not None:\n",
    "            if current_positions:\n",
    "                positions = np.vstack([positions, current_positions])\n",
    "        else:\n",
    "            positions = np.array(current_positions)\n",
    "        charges.extend(bin_charges)\n",
    "    return positions, np.asarray(charges)"
   ]
  },
  {
   "cell_type": "code",
   "execution_count": 41,
   "metadata": {
    "collapsed": true
   },
   "outputs": [],
   "source": [
    "def get_positions_and_charges_in_timebins(timebin_string_om_dict, dom_geometry_dict, timebins):\n",
    "    if isinstance(timebins, int):\n",
    "        timebins = (timebins,)\n",
    "    positions = None\n",
    "    charges = []\n",
    "    for i, timebin in enumerate(timebins):\n",
    "        current_positions = []\n",
    "        bin_charges = []\n",
    "        for soc in timebin_string_om_dict[timebin]:\n",
    "            current_positions.append(list(dom_geometry_dict[soc[0:2]][0]))    \n",
    "            bin_charges.append(soc[2])\n",
    "        if positions is not None:\n",
    "            if current_positions:\n",
    "                positions = np.vstack([positions, current_positions])\n",
    "        else:\n",
    "            positions = np.array(current_positions)\n",
    "        charges.extend(bin_charges)\n",
    "    return positions, np.asarray(charges)"
   ]
  },
  {
   "cell_type": "code",
   "execution_count": 42,
   "metadata": {
    "collapsed": true
   },
   "outputs": [],
   "source": [
    "positions_in_timebins_012_, charges_in_timebins_012_ = get_positions_and_charges_in_timebins(time_to_soc_dict, dom_geometry_dict, timebins=range(3))\n",
    "assert np.all(positions_in_timebins_012 == positions_in_timebins_012_)\n",
    "assert np.all(charges_in_timebins_012 == charges_in_timebins_012_)"
   ]
  },
  {
   "cell_type": "code",
   "execution_count": 43,
   "metadata": {
    "collapsed": true
   },
   "outputs": [],
   "source": [
    "def histplot(positions, charges, cbars=False, normed=False, return_histograms=False):    \n",
    "    hist_xy, _, _ = np.histogram2d(*positions[:,[0,1]].T, bins=(25,25), weights=np.log(charges+1),\n",
    "                                   range=((-600,600),(-600,600)), normed=normed)\n",
    "    hist_yz, _, _ = np.histogram2d(*positions[:,[1,2]].T, bins=(25,25), weights=np.log(charges+1),\n",
    "                                   range=((-600,600),(-600,600)), normed=normed)\n",
    "    hist_xz, _, _ = np.histogram2d(*positions[:,[0,2]].T, bins=(25,25), weights=np.log(charges+1),\n",
    "                                   range=((-600,600),(-600,600)), normed=normed)\n",
    "\n",
    "    fig, axes = plt.subplots(nrows=1, ncols=3)\n",
    "    ax_xy, ax_yz, ax_xz = np.ravel(axes)\n",
    "    ax_xy.set_xlabel(\"x\")\n",
    "    ax_xy.set_ylabel(\"y\")\n",
    "    ax_yz.set_xlabel(\"y\")\n",
    "    ax_yz.set_ylabel(\"z\")\n",
    "    ax_xz.set_xlabel(\"x\")\n",
    "    ax_xz.set_ylabel(\"z\")\n",
    "\n",
    "    ax_xy.set_aspect(\"equal\")\n",
    "    im_xy = ax_xy.imshow(np.log(hist_xy.T+1), origin=\"lower\", extent=(-600, 600, -600, 600), cmap=\"viridis\", vmin=0)\n",
    "    im_yz = ax_yz.imshow(np.log(hist_yz.T+1), origin=\"lower\", extent=(-600, 600, -600, 600), cmap=\"viridis\", vmin=0)\n",
    "    im_xz = ax_xz.imshow(np.log(hist_xz.T+1), origin=\"lower\", extent=(-600, 600, -600, 600), cmap=\"viridis\", vmin=0)\n",
    "    if cbars:\n",
    "        for im,ax in zip([im_xy, im_yz, im_xz],[ax_xy, ax_yz, ax_xz]):\n",
    "            cbar = plt.colorbar(im, ax=ax, orientation=\"horizontal\")\n",
    "            cbar.set_label(\"Number of Pulses\")\n",
    "    if return_histograms:\n",
    "        return hist_xy, hist_yz, hist_xz"
   ]
  },
  {
   "cell_type": "raw",
   "metadata": {},
   "source": [
    "def get_4d_event_histogram(timebin_string_om_dict):    \n",
    "    hist_txyz = np.zeros(shape=(25,25,25,25))\n",
    "    for t in range(25):\n",
    "        pos, charge = get_positions_and_charges_in_timebins(timebin_string_om_dict, timebins=t)\n",
    "        hist_xyz, _= np.histogramdd(pos, bins=25, weights=np.log(charge+1), range=((-600,600),(-600,600),(-600,600)))  \n",
    "        hist_txyz[t, :,:,:] = hist_xyz\n",
    "    return hist_txyz"
   ]
  },
  {
   "cell_type": "code",
   "execution_count": 57,
   "metadata": {
    "collapsed": true
   },
   "outputs": [],
   "source": [
    "def get_4d_event_histogram(timebin_string_om_dict, dom_geometry_dict,\n",
    "                           number_txyz_bins=(25, 25, 25, 25)):\n",
    "    hist_txyz = np.zeros(shape=number_txyz_bins)\n",
    "    for timebin in range(number_txyz_bins[0]):\n",
    "        positions, charges = get_positions_and_charges_in_timebins(timebin_string_om_dict,\n",
    "                                                                   dom_geometry_dict,\n",
    "                                                                   timebins=timebin)\n",
    "        if positions.shape[0] > 0:\n",
    "            hist_xyz, _ = np.histogramdd(positions, weights=np.log1p(charges), bins=number_txyz_bins[1:],\n",
    "                                         range=((-600, 600), (-600, 600), (-600, 600)))\n",
    "            hist_txyz[timebin, :, :, :] = hist_xyz\n",
    "    return hist_txyz"
   ]
  },
  {
   "cell_type": "code",
   "execution_count": 45,
   "metadata": {
    "collapsed": true
   },
   "outputs": [],
   "source": [
    "event_histogram_txyz = get_4d_event_histogram(time_to_soc_dict, dom_geometry_dict, number_txyz_bins=(25,25,25,25))"
   ]
  },
  {
   "cell_type": "code",
   "execution_count": 2,
   "metadata": {
    "collapsed": true,
    "scrolled": true
   },
   "outputs": [],
   "source": [
    "def project_4d_histogram_onto_plane(hist4d, projection=\"xy\", transpose=True):\n",
    "    axis_by_dimension = {\"t\":0, \"x\":1, \"y\":2, \"z\":3}\n",
    "    axis_left = [] \n",
    "    for name, number in axis_by_dimension.items():\n",
    "        if not name in projection:\n",
    "            axis_left.append(number)\n",
    "    axis_left.sort()\n",
    "    return np.sum(hist4d, axis=tuple(axis_left)).T if transpose else np.sum(hist4d, axis=tuple(axis_left))"
   ]
  },
  {
   "cell_type": "code",
   "execution_count": 47,
   "metadata": {},
   "outputs": [
    {
     "data": {
      "text/plain": [
       "array([[   0.        ,    0.        ,    0.        ,    0.        ,\n",
       "           0.        ,    0.        ,    0.        ,    0.        ,\n",
       "           0.        ,    0.        ,    0.        ,    0.        ,\n",
       "           0.        ,    0.        ,    0.        ,    0.        ,\n",
       "           0.        ,    0.        ,    0.        ,    0.        ,\n",
       "           0.        ,    0.        ,    0.        ,    0.        ,    0.        ],\n",
       "       [   0.        ,    0.        ,    0.        ,    0.        ,\n",
       "           0.        ,    0.        ,    0.        ,    0.51581317,\n",
       "           0.        ,    0.        ,    0.        ,    0.        ,\n",
       "           0.        ,    0.        ,    0.        ,    0.        ,\n",
       "           0.        ,    0.        ,    0.        ,    0.        ,\n",
       "           0.        ,    0.        ,    0.        ,    0.        ,    0.        ],\n",
       "       [   1.55405729,    0.        ,    0.        ,    0.95551144,\n",
       "           1.41113938,   10.25169982,   16.48436376,    2.93270667,\n",
       "          10.09067064,    3.17364471,    1.0870878 ,    2.13203588,\n",
       "           0.        ,    0.        ,    0.        ,    0.        ,\n",
       "           1.96241381,    0.        ,    0.        ,    0.        ,\n",
       "           0.        ,    0.        ,    0.        ,    0.        ,    0.        ],\n",
       "       [   0.        ,    0.        ,    0.8858315 ,    1.90434384,\n",
       "           1.5297181 ,    9.51453857,   23.57315559,    4.44079419,\n",
       "           8.63506511,   12.52513801,    1.41113938,    2.84158816,\n",
       "           4.34304517,    0.        ,    0.        ,    0.        ,\n",
       "           0.        ,    0.        ,    0.        ,    0.        ,\n",
       "           0.        ,    0.        ,    0.        ,    0.        ,    0.        ],\n",
       "       [   0.        ,    0.        ,    0.42199439,    0.65492597,\n",
       "          10.18590402,   14.94651031,   39.96747141,   11.22076871,\n",
       "          13.64175436,   18.91813522,    3.5037794 ,    2.38512857,\n",
       "           1.99083443,    0.        ,    0.        ,    0.        ,\n",
       "           0.        ,    0.        ,    0.        ,    0.        ,\n",
       "           0.        ,    0.        ,    0.        ,    0.        ,    0.        ],\n",
       "       [   0.        ,    0.        ,    0.        ,    2.95872126,\n",
       "           7.93340457,   24.8406719 ,   55.505862  ,   17.30683997,\n",
       "          16.27753588,   27.90347097,    5.83705692,    7.78878036,\n",
       "           2.88611957,    0.45425526,    0.89225414,    0.        ,\n",
       "           0.        ,    0.        ,    0.        ,    0.        ,\n",
       "           0.        ,    0.        ,    0.        ,    0.        ,    0.        ],\n",
       "       [   0.        ,    0.        ,    0.        ,    1.7754157 ,\n",
       "           3.83936716,   17.98587442,   15.04071767,   11.07098752,\n",
       "          24.63603801,   17.64036072,    4.88040619,    5.36181424,\n",
       "           0.45425526,    0.7178398 ,    0.        ,    0.        ,\n",
       "           0.        ,    0.        ,    0.        ,    0.        ,\n",
       "           0.        ,    0.48550782,    0.        ,    0.        ,    0.        ],\n",
       "       [   0.        ,    0.        ,    1.12877769,    0.        ,\n",
       "           2.70666252,    8.15808982,   11.41412675,   10.78848016,\n",
       "           7.07245808,   17.58764208,    0.        ,    1.59495861,\n",
       "           3.53181951,    0.54522706,    0.        ,    0.        ,\n",
       "           0.        ,    0.        ,    0.        ,    0.        ,\n",
       "           0.        ,    0.        ,    0.        ,    0.        ,    0.        ],\n",
       "       [   0.        ,    0.        ,    0.        ,    0.        ,\n",
       "           1.25650595,    5.52967715,   26.76669648,    4.10183461,\n",
       "           4.19873925,   16.65522587,    0.54522706,    0.48550782,\n",
       "           0.60157998,    0.        ,    1.19619263,    0.        ,\n",
       "           0.        ,    0.        ,    0.        ,    0.        ,\n",
       "           0.        ,    0.        ,    0.        ,    0.        ,    0.        ],\n",
       "       [   0.        ,    0.        ,    0.        ,    1.23837421,\n",
       "           0.        ,    1.98397337,   16.53068546,    4.58775805,\n",
       "           5.89268173,   12.79264553,    1.53080044,    0.        ,\n",
       "           0.        ,    0.        ,    0.        ,    0.        ,\n",
       "           0.        ,    0.        ,    0.        ,    0.        ,\n",
       "           0.        ,    0.        ,    0.        ,    0.        ,    0.        ],\n",
       "       [   0.        ,    0.        ,    0.        ,    0.        ,\n",
       "           0.        ,    0.90624041,    0.60157998,    0.        ,\n",
       "           0.        ,    0.        ,    0.        ,    2.30310372,\n",
       "           0.        ,    0.        ,    0.        ,    0.        ,\n",
       "           0.        ,    1.44101924,    0.        ,    0.        ,\n",
       "           0.        ,    0.        ,    0.        ,    0.        ,    0.        ],\n",
       "       [   0.        ,    0.        ,    0.        ,    0.        ,\n",
       "           0.        ,    0.        ,    1.33779321,    0.57380041,\n",
       "           0.        ,    4.04273401,    0.79975693,    0.        ,\n",
       "           0.        ,    0.        ,    0.        ,    0.        ,\n",
       "           0.        ,    0.        ,    0.        ,    0.        ,\n",
       "           0.        ,    0.        ,    0.        ,    0.        ,    0.        ],\n",
       "       [   0.        ,    0.        ,    0.        ,    0.        ,\n",
       "           0.        ,    0.        ,    0.57380041,    2.63132217,\n",
       "           0.        ,    1.68632951,    1.53713598,    0.        ,\n",
       "           0.        ,    0.        ,    0.        ,    0.        ,\n",
       "           0.        ,    0.        ,    0.        ,    0.        ,\n",
       "           0.        ,    0.        ,    1.96789873,    0.        ,    0.        ],\n",
       "       [   1.67241273,    0.        ,    0.        ,    0.        ,\n",
       "           0.68056841,    0.79975693,    1.72099326,    5.69551118,\n",
       "           0.        ,    5.36659735,    0.70556969,    0.        ,\n",
       "           0.        ,    0.        ,    0.        ,    0.        ,\n",
       "           0.        ,    0.        ,    0.        ,    0.        ,\n",
       "           0.        ,    0.        ,    0.        ,    0.        ,    0.        ],\n",
       "       [   0.        ,    0.        ,    0.        ,    0.        ,\n",
       "           0.        ,    0.        ,    0.        ,   14.27495694,\n",
       "           0.82198004,    7.6732115 ,    4.61991775,    0.        ,\n",
       "           0.        ,    0.        ,    0.        ,    0.        ,\n",
       "           0.        ,    0.        ,    0.        ,    0.        ,\n",
       "           0.        ,    0.        ,    0.        ,    0.        ,    0.        ],\n",
       "       [   0.        ,    0.        ,    0.        ,    0.        ,\n",
       "           0.        ,    0.        ,    1.5866809 ,   20.40670371,\n",
       "           0.        ,   14.05809576,    3.1053269 ,    0.        ,\n",
       "           0.57380041,    0.        ,    1.07329446,    0.        ,\n",
       "           0.        ,    0.        ,    0.        ,    0.        ,\n",
       "           0.        ,    0.        ,    0.        ,    0.        ,    0.        ],\n",
       "       [   0.        ,    0.        ,    0.        ,    0.        ,\n",
       "           0.        ,    0.70556969,    1.10339249,   17.36021288,\n",
       "           0.        ,    8.68892164,    6.15438064,    0.        ,\n",
       "           0.7537718 ,    0.        ,    0.        ,    0.        ,\n",
       "           0.        ,    0.        ,    0.        ,    0.        ,\n",
       "           0.        ,    0.        ,    0.        ,    0.        ,    0.        ],\n",
       "       [   0.        ,    0.        ,    0.        ,    1.38579817,\n",
       "           0.        ,    0.        ,    0.        ,    8.24312805,\n",
       "           0.        ,    4.64862023,    5.35695602,    0.        ,\n",
       "           0.        ,    0.        ,    0.        ,    0.        ,\n",
       "           0.        ,    0.        ,    0.        ,    1.24559445,\n",
       "           0.        ,    0.        ,    0.        ,    0.        ,    0.        ],\n",
       "       [   0.        ,    0.        ,    0.        ,    0.        ,\n",
       "           0.        ,    0.        ,    0.        ,    9.20081444,\n",
       "           0.        ,    1.14879039,    7.14973842,    0.        ,\n",
       "           0.51581317,    0.        ,    0.        ,    0.        ,\n",
       "           0.        ,    0.        ,    0.        ,    0.        ,\n",
       "           0.        ,    0.        ,    0.        ,    0.        ,    0.        ],\n",
       "       [   0.        ,    0.        ,    0.95551145,    0.        ,\n",
       "           0.        ,    0.        ,    0.68056841,    8.61240602,\n",
       "           0.        ,    1.80398905,   11.86391892,    0.        ,\n",
       "           0.70556969,    0.        ,    0.        ,    0.        ,\n",
       "           0.        ,    0.        ,    0.        ,    0.        ,\n",
       "           0.        ,    0.        ,    0.        ,    0.        ,    0.        ],\n",
       "       [   0.        ,    0.        ,    0.        ,    0.        ,\n",
       "           0.        ,    0.        ,    0.        ,   11.86718276,\n",
       "           0.        ,    1.82737546,   33.74224145,    0.        ,\n",
       "           4.14425934,    0.70556969,    0.        ,    0.        ,\n",
       "           1.25276299,    0.        ,    0.        ,    0.        ,\n",
       "           0.        ,    0.        ,    0.        ,    0.        ,    0.        ],\n",
       "       [   0.        ,    0.        ,    0.        ,    0.        ,\n",
       "           0.        ,    0.        ,    2.35316825,   55.0383485 ,\n",
       "           0.        ,   18.46530459,   92.21280804,    2.96634758,\n",
       "          16.12415054,    0.        ,    0.        ,    0.        ,\n",
       "           0.        ,    0.        ,    0.        ,    0.        ,\n",
       "           0.        ,    0.        ,    0.        ,    0.        ,    0.        ],\n",
       "       [   0.        ,    0.        ,    0.        ,    0.        ,\n",
       "           0.        ,    0.        ,    4.2389363 ,   53.6832376 ,\n",
       "           0.        ,   16.64709406,  123.21440337,    0.        ,\n",
       "          14.59509849,    0.72996118,    0.        ,    0.        ,\n",
       "           0.        ,    0.        ,    0.        ,    0.        ,\n",
       "           0.        ,    0.        ,    0.        ,    0.        ,\n",
       "           0.8858315 ],\n",
       "       [   0.        ,    0.        ,    0.        ,    0.        ,\n",
       "           0.        ,    0.        ,    0.        ,    0.        ,\n",
       "           0.        ,    0.        ,    0.        ,    0.        ,\n",
       "           0.70556969,    0.        ,    0.        ,    0.        ,\n",
       "           0.        ,    0.        ,    0.        ,    0.        ,\n",
       "           0.        ,    0.        ,    0.        ,    0.        ,    0.        ],\n",
       "       [   0.        ,    0.        ,    0.        ,    0.        ,\n",
       "           0.        ,    0.        ,    0.        ,    0.        ,\n",
       "           0.        ,    0.        ,    0.        ,    0.        ,\n",
       "           0.        ,    0.        ,    0.        ,    0.        ,\n",
       "           0.        ,    0.        ,    0.        ,    0.        ,\n",
       "           0.        ,    0.        ,    0.        ,    0.        ,    0.        ]])"
      ]
     },
     "execution_count": 47,
     "metadata": {},
     "output_type": "execute_result"
    }
   ],
   "source": [
    "xz_projection = project_4d_histogram_onto_plane(event_histogram_txyz, projection=\"xz\")\n",
    "xz_projection\n"
   ]
  },
  {
   "cell_type": "code",
   "execution_count": 48,
   "metadata": {},
   "outputs": [
    {
     "data": {
      "text/plain": [
       "<matplotlib.image.AxesImage at 0x7f220f0f9cc0>"
      ]
     },
     "execution_count": 48,
     "metadata": {},
     "output_type": "execute_result"
    },
    {
     "data": {
      "image/png": "[encoded data removed]",
      "text/plain": [
       "<matplotlib.figure.Figure at 0x7f220f827c50>"
      ]
     },
     "metadata": {},
     "output_type": "display_data"
    }
   ],
   "source": [
    "plt.imshow(np.log1p(xz_projection), origin=\"lower\")"
   ]
  },
  {
   "cell_type": "raw",
   "metadata": {
    "collapsed": true
   },
   "source": [
    "def write_events_and_labels_to_hdf(hdf_filepath, run_dataframe, events, labels,\n",
    "                                   data_key=\"EventData\", labels_key=\"EventLabels\"):\n",
    "    num_events = len(events) \n",
    "    num_labels = len(labels)\n",
    "    if num_events != num_labels:\n",
    "        # @improve: replace with warning add logging\n",
    "        raise ValueError(\"length of arguments `events` ({}) and `labels` ({}) must be the same.\".format(num_events, num_labels))\n",
    "    with h5py.File(hdf_filepath, \"w\") as hdf_file:\n",
    "        hdf_file.create_dataset(labels_key, data=labels)\n",
    "        data_group = hdf_file.create_group(data_key)\n",
    "        max_event_digits = int(np.log10(max(events)[0])) + 1\n",
    "        for event in events:\n",
    "            event_format = \"event_{event:0{digits}}_{subevent}\"\n",
    "            event_name = event_format.format(digits=max_event_digits, event=event[0], subevent=event[1])\n",
    "            event_binned = get_4d_event_histogram(get_string_om_charge_by_timebin(run_dataframe.loc[event]),\n",
    "                                                  load_geometry_dict(\"domdict.pickle\"))\n",
    "            data_group.create_dataset(event_name, data=event_binned)\n",
    "        hdf_file.flush()"
   ]
  },
  {
   "cell_type": "code",
   "execution_count": 49,
   "metadata": {
    "collapsed": true
   },
   "outputs": [],
   "source": [
    "def gen_formatted_mcdata_filename(mcdata_filename):\n",
    "    path, filename = os.path.split(mcdata_filename)\n",
    "    filename_parts = filename.split(\".\")\n",
    "    filename_parts.insert(-1, \"formatted\")\n",
    "    filename_formatted = \".\".join(filename_parts)\n",
    "    return os.path.join(path, filename_formatted)\n"
   ]
  },
  {
   "cell_type": "code",
   "execution_count": 50,
   "metadata": {},
   "outputs": [
    {
     "data": {
      "text/plain": [
       "'../hdf/Level2_nugen_numu_IC86.2012.011069.000000.formatted.hdf5'"
      ]
     },
     "execution_count": 50,
     "metadata": {},
     "output_type": "execute_result"
    }
   ],
   "source": [
    "gen_formatted_mcdata_filename(hdf5_test_file)"
   ]
  },
  {
   "cell_type": "code",
   "execution_count": 51,
   "metadata": {
    "collapsed": true
   },
   "outputs": [],
   "source": [
    "def write_events_and_labels_to_hdf(hdf_filepath, run_dataframe, events, labels, dom_geometry_dict,\n",
    "                                   data_key=\"EventData\", labels_key=\"EventLabels\"):\n",
    "    num_events = len(events)\n",
    "    num_labels = len(labels)\n",
    "    if num_events != num_labels:\n",
    "        # @improve: replace with warning add logging\n",
    "        raise ValueError(\"length of arguments `events` ({}) and `labels` ({}) must be the same.\".format(num_events, num_labels))\n",
    "    with h5py.File(hdf_filepath, \"w\") as hdf_file:\n",
    "        hdf_file.create_dataset(labels_key, data=labels)\n",
    "        data_group = hdf_file.create_group(data_key)\n",
    "        max_event_digits = int(np.log10(max(events)[0])) + 1\n",
    "        for event in events:\n",
    "            event_format = \"event_{event:0{digits}}_{subevent}\"\n",
    "            event_name = event_format.format(digits=max_event_digits, event=event[0], subevent=event[1])\n",
    "            event_binned = get_4d_event_histogram(get_string_om_charge_by_timebin(run_dataframe.loc[event]),\n",
    "                                                  dom_geometry_dict)\n",
    "            data_group.create_dataset(event_name, data=event_binned)\n",
    "        hdf_file.flush()"
   ]
  },
  {
   "cell_type": "code",
   "execution_count": 1038,
   "metadata": {},
   "outputs": [
    {
     "ename": "ValueError",
     "evalue": "shapes (4,) and (2,) not aligned: 4 (dim 0) != 2 (dim 0)",
     "output_type": "error",
     "traceback": [
      "\u001b[0;31m---------------------------------------------------------------------------\u001b[0m",
      "\u001b[0;31mValueError\u001b[0m                                Traceback (most recent call last)",
      "\u001b[0;32m<ipython-input-1038-79f2b8ee01a4>\u001b[0m in \u001b[0;36m<module>\u001b[0;34m()\u001b[0m\n\u001b[0;32m----> 1\u001b[0;31m \u001b[0mnp\u001b[0m\u001b[0;34m.\u001b[0m\u001b[0marray\u001b[0m\u001b[0;34m(\u001b[0m\u001b[0;34m[\u001b[0m\u001b[0;36m1\u001b[0m\u001b[0;34m,\u001b[0m\u001b[0;36m2\u001b[0m\u001b[0;34m,\u001b[0m\u001b[0;36m3\u001b[0m\u001b[0;34m,\u001b[0m\u001b[0;36m4\u001b[0m\u001b[0;34m]\u001b[0m\u001b[0;34m)\u001b[0m\u001b[0;34m@\u001b[0m\u001b[0mnp\u001b[0m\u001b[0;34m.\u001b[0m\u001b[0marray\u001b[0m\u001b[0;34m(\u001b[0m\u001b[0;34m[\u001b[0m\u001b[0;36m1\u001b[0m\u001b[0;34m,\u001b[0m\u001b[0;36m3\u001b[0m\u001b[0;34m]\u001b[0m\u001b[0;34m)\u001b[0m\u001b[0;34m\u001b[0m\u001b[0m\n\u001b[0m",
      "\u001b[0;31mValueError\u001b[0m: shapes (4,) and (2,) not aligned: 4 (dim 0) != 2 (dim 0)"
     ]
    }
   ],
   "source": [
    "np.array([1,2,3,4])@np.array([1,3])"
   ]
  },
  {
   "cell_type": "code",
   "execution_count": 1015,
   "metadata": {
    "collapsed": true
   },
   "outputs": [],
   "source": [
    "df = get_pos_charge_dataframe(get_dataframe_from_hdffile(hdf5_files[0]), reindex=True)"
   ]
  },
  {
   "cell_type": "code",
   "execution_count": 994,
   "metadata": {},
   "outputs": [
    {
     "data": {
      "text/html": [
       "<div>\n",
       "<style>\n",
       "    .dataframe thead tr:only-child th {\n",
       "        text-align: right;\n",
       "    }\n",
       "\n",
       "    .dataframe thead th {\n",
       "        text-align: left;\n",
       "    }\n",
       "\n",
       "    .dataframe tbody tr th {\n",
       "        vertical-align: top;\n",
       "    }\n",
       "</style>\n",
       "<table border=\"1\" class=\"dataframe\">\n",
       "  <thead>\n",
       "    <tr style=\"text-align: right;\">\n",
       "      <th></th>\n",
       "      <th></th>\n",
       "      <th></th>\n",
       "      <th></th>\n",
       "      <th></th>\n",
       "      <th>charge</th>\n",
       "    </tr>\n",
       "    <tr>\n",
       "      <th>Event</th>\n",
       "      <th>SubEvent</th>\n",
       "      <th>timebin</th>\n",
       "      <th>string</th>\n",
       "      <th>om</th>\n",
       "      <th></th>\n",
       "    </tr>\n",
       "  </thead>\n",
       "  <tbody>\n",
       "    <tr>\n",
       "      <th rowspan=\"10\" valign=\"top\">1</th>\n",
       "      <th rowspan=\"10\" valign=\"top\">0</th>\n",
       "      <th rowspan=\"8\" valign=\"top\">0</th>\n",
       "      <th>19</th>\n",
       "      <th>59</th>\n",
       "      <td>1.275000</td>\n",
       "    </tr>\n",
       "    <tr>\n",
       "      <th>30</th>\n",
       "      <th>31</th>\n",
       "      <td>1.675000</td>\n",
       "    </tr>\n",
       "    <tr>\n",
       "      <th>31</th>\n",
       "      <th>58</th>\n",
       "      <td>1.175000</td>\n",
       "    </tr>\n",
       "    <tr>\n",
       "      <th>32</th>\n",
       "      <th>17</th>\n",
       "      <td>0.675000</td>\n",
       "    </tr>\n",
       "    <tr>\n",
       "      <th>60</th>\n",
       "      <th>50</th>\n",
       "      <td>1.375000</td>\n",
       "    </tr>\n",
       "    <tr>\n",
       "      <th>63</th>\n",
       "      <th>37</th>\n",
       "      <td>0.925000</td>\n",
       "    </tr>\n",
       "    <tr>\n",
       "      <th>69</th>\n",
       "      <th>2</th>\n",
       "      <td>2.250000</td>\n",
       "    </tr>\n",
       "    <tr>\n",
       "      <th>86</th>\n",
       "      <th>20</th>\n",
       "      <td>1.625000</td>\n",
       "    </tr>\n",
       "    <tr>\n",
       "      <th rowspan=\"2\" valign=\"top\">2</th>\n",
       "      <th rowspan=\"2\" valign=\"top\">77</th>\n",
       "      <th>1</th>\n",
       "      <td>907.675005</td>\n",
       "    </tr>\n",
       "    <tr>\n",
       "      <th>2</th>\n",
       "      <td>1332.800013</td>\n",
       "    </tr>\n",
       "  </tbody>\n",
       "</table>\n",
       "</div>"
      ],
      "text/plain": [
       "                                       charge\n",
       "Event SubEvent timebin string om             \n",
       "1     0        0       19     59     1.275000\n",
       "                       30     31     1.675000\n",
       "                       31     58     1.175000\n",
       "                       32     17     0.675000\n",
       "                       60     50     1.375000\n",
       "                       63     37     0.925000\n",
       "                       69     2      2.250000\n",
       "                       86     20     1.625000\n",
       "               2       77     1    907.675005\n",
       "                              2   1332.800013"
      ]
     },
     "execution_count": 994,
     "metadata": {},
     "output_type": "execute_result"
    }
   ],
   "source": [
    "df.head(10)\n"
   ]
  },
  {
   "cell_type": "code",
   "execution_count": 1259,
   "metadata": {
    "collapsed": true
   },
   "outputs": [],
   "source": [
    "df = string_om_charge_dataframe"
   ]
  },
  {
   "cell_type": "code",
   "execution_count": 1282,
   "metadata": {},
   "outputs": [
    {
     "data": {
      "image/png": "[encoded data removed]",
      "text/plain": [
       "<matplotlib.figure.Figure at 0x7f7525510898>"
      ]
     },
     "metadata": {},
     "output_type": "display_data"
    }
   ],
   "source": [
    "pos,charge = get_positions_and_charges_in_timebins(get_string_om_charge_by_timebin(df.loc[1,0]), dom_geometry_dict, timebins=range(25))\n",
    "xy,yz,xz = histplot(pos, charge, return_histograms=True)"
   ]
  },
  {
   "cell_type": "code",
   "execution_count": 1286,
   "metadata": {},
   "outputs": [
    {
     "data": {
      "text/plain": [
       "array([[ True,  True,  True,  True,  True,  True,  True,  True,  True,\n",
       "         True,  True,  True,  True,  True,  True,  True,  True,  True,\n",
       "         True,  True,  True,  True,  True,  True,  True],\n",
       "       [ True,  True,  True,  True,  True,  True,  True,  True,  True,\n",
       "         True,  True,  True,  True,  True,  True, False,  True,  True,\n",
       "         True,  True,  True,  True,  True,  True,  True],\n",
       "       [ True,  True,  True,  True,  True,  True,  True,  True, False,\n",
       "        False,  True,  True,  True,  True,  True, False,  True, False,\n",
       "        False, False, False, False, False,  True,  True],\n",
       "       [ True,  True,  True,  True,  True,  True,  True,  True,  True,\n",
       "         True,  True,  True, False, False,  True, False,  True, False,\n",
       "        False, False, False, False, False,  True,  True],\n",
       "       [ True,  True,  True,  True,  True,  True,  True,  True,  True,\n",
       "         True,  True,  True, False, False,  True, False,  True, False,\n",
       "        False, False, False, False, False,  True,  True],\n",
       "       [ True,  True,  True,  True,  True,  True,  True,  True,  True,\n",
       "         True,  True,  True, False, False,  True, False,  True, False,\n",
       "        False, False, False, False, False, False,  True],\n",
       "       [ True,  True,  True,  True,  True,  True,  True,  True, False,\n",
       "         True,  True,  True,  True,  True,  True, False, False, False,\n",
       "        False, False, False, False, False,  True,  True],\n",
       "       [ True,  True,  True,  True,  True,  True,  True,  True,  True,\n",
       "         True,  True,  True, False,  True, False, False,  True, False,\n",
       "        False, False, False, False, False,  True,  True],\n",
       "       [ True,  True,  True,  True,  True,  True,  True,  True,  True,\n",
       "         True,  True,  True,  True,  True,  True, False,  True, False,\n",
       "        False, False, False, False, False,  True,  True],\n",
       "       [ True,  True,  True,  True,  True,  True,  True,  True,  True,\n",
       "         True,  True,  True,  True,  True,  True,  True,  True, False,\n",
       "         True, False, False, False, False,  True,  True],\n",
       "       [ True,  True,  True,  True,  True,  True,  True,  True,  True,\n",
       "         True,  True,  True,  True, False,  True,  True,  True,  True,\n",
       "        False, False,  True,  True,  True,  True,  True],\n",
       "       [ True,  True,  True,  True,  True,  True,  True,  True,  True,\n",
       "         True,  True,  True,  True,  True,  True,  True,  True,  True,\n",
       "         True, False, False,  True, False,  True,  True],\n",
       "       [ True,  True,  True,  True,  True,  True,  True,  True,  True,\n",
       "         True,  True, False,  True,  True,  True,  True,  True,  True,\n",
       "         True, False, False,  True, False,  True,  True],\n",
       "       [ True,  True,  True,  True,  True,  True,  True,  True,  True,\n",
       "         True,  True,  True,  True,  True,  True,  True,  True,  True,\n",
       "         True, False, False, False, False,  True,  True],\n",
       "       [ True, False,  True,  True,  True,  True,  True,  True,  True,\n",
       "         True,  True,  True,  True,  True,  True,  True,  True, False,\n",
       "         True,  True, False,  True, False,  True,  True],\n",
       "       [ True,  True,  True,  True,  True,  True,  True,  True,  True,\n",
       "         True,  True,  True,  True,  True,  True,  True,  True,  True,\n",
       "         True, False, False,  True, False,  True,  True],\n",
       "       [ True,  True,  True,  True,  True,  True,  True,  True,  True,\n",
       "         True,  True,  True,  True,  True,  True,  True,  True,  True,\n",
       "         True, False, False, False, False,  True,  True],\n",
       "       [ True,  True,  True,  True,  True,  True,  True,  True,  True,\n",
       "         True, False,  True,  True,  True,  True,  True,  True,  True,\n",
       "         True,  True, False,  True, False,  True,  True],\n",
       "       [ True,  True,  True,  True,  True,  True,  True,  True,  True,\n",
       "         True,  True,  True,  True,  True,  True,  True,  True,  True,\n",
       "         True,  True, False,  True, False,  True,  True],\n",
       "       [ True,  True,  True,  True,  True,  True,  True,  True,  True,\n",
       "         True,  True,  True,  True,  True, False,  True,  True,  True,\n",
       "         True, False, False,  True, False,  True,  True],\n",
       "       [ True,  True,  True,  True,  True,  True,  True,  True,  True,\n",
       "         True,  True,  True,  True,  True,  True,  True,  True,  True,\n",
       "        False,  True, False,  True, False, False,  True],\n",
       "       [ True,  True,  True,  True,  True,  True,  True,  True,  True,\n",
       "         True,  True,  True,  True,  True,  True,  True,  True,  True,\n",
       "        False, False, False,  True, False, False,  True],\n",
       "       [ True,  True, False,  True,  True,  True,  True,  True,  True,\n",
       "         True,  True,  True,  True,  True,  True,  True,  True,  True,\n",
       "        False, False, False,  True, False, False,  True],\n",
       "       [ True,  True,  True,  True,  True,  True,  True,  True,  True,\n",
       "         True,  True,  True,  True,  True,  True,  True,  True,  True,\n",
       "         True,  True,  True,  True,  True, False,  True],\n",
       "       [ True,  True,  True,  True,  True,  True,  True,  True,  True,\n",
       "         True,  True,  True,  True,  True,  True,  True,  True,  True,\n",
       "         True,  True,  True,  True,  True,  True,  True]], dtype=bool)"
      ]
     },
     "execution_count": 1286,
     "metadata": {},
     "output_type": "execute_result"
    }
   ],
   "source": [
    "yz.T == project4d(event_histogram_txyz, projection=\"yz\")"
   ]
  },
  {
   "cell_type": "code",
   "execution_count": 628,
   "metadata": {},
   "outputs": [
    {
     "data": {
      "text/plain": [
       "<matplotlib.image.AxesImage at 0x7f752732ec18>"
      ]
     },
     "execution_count": 628,
     "metadata": {},
     "output_type": "execute_result"
    },
    {
     "data": {
      "image/png": "[encoded data removed]",
      "text/plain": [
       "<matplotlib.figure.Figure at 0x7f75274211d0>"
      ]
     },
     "metadata": {},
     "output_type": "display_data"
    }
   ],
   "source": [
    "plt.imshow(np.log(project4d(test_res, projection=\"xz\")+1), origin=\"lower\")"
   ]
  },
  {
   "cell_type": "code",
   "execution_count": 627,
   "metadata": {},
   "outputs": [
    {
     "data": {
      "text/plain": [
       "<matplotlib.image.AxesImage at 0x7f7527354208>"
      ]
     },
     "execution_count": 627,
     "metadata": {},
     "output_type": "execute_result"
    },
    {
     "data": {
      "image/png": "[encoded data removed]",
      "text/plain": [
       "<matplotlib.figure.Figure at 0x7f75273f2eb8>"
      ]
     },
     "metadata": {},
     "output_type": "display_data"
    }
   ],
   "source": [
    "plt.imshow(xz.T, origin=\"lower\")"
   ]
  },
  {
   "cell_type": "code",
   "execution_count": null,
   "metadata": {
    "collapsed": true
   },
   "outputs": [],
   "source": [
    "events = get_events_in_run(hdf5_files[0])"
   ]
  },
  {
   "cell_type": "code",
   "execution_count": 651,
   "metadata": {
    "collapsed": true
   },
   "outputs": [],
   "source": [
    "event_1_binned = get_4d_event_histogram(get_string_om_charge_by_timebin(df.loc[1]))\n",
    "event_4_binned = get_4d_event_histogram(get_string_om_charge_by_timebin(df.loc[4]))"
   ]
  },
  {
   "cell_type": "code",
   "execution_count": 1019,
   "metadata": {},
   "outputs": [
    {
     "name": "stdout",
     "output_type": "stream",
     "text": [
      "[(1, 0) (4, 0) (9, 0) (14, 0) (33, 0) (58, 0) (66, 0) (69, 0) (73, 0)\n",
      " (78, 0)]\n",
      "[0 2 2 1 0 1 0 2 0 0]\n"
     ]
    }
   ],
   "source": [
    "events, labels = get_events_and_labels(hdf5_files[0])\n",
    "\n",
    "print(events[:10])\n",
    "print(labels[:10])\n"
   ]
  },
  {
   "cell_type": "code",
   "execution_count": 1024,
   "metadata": {},
   "outputs": [
    {
     "data": {
      "text/plain": [
       "(5029, 0)"
      ]
     },
     "execution_count": 1024,
     "metadata": {},
     "output_type": "execute_result"
    }
   ],
   "source": [
    "max(events)"
   ]
  },
  {
   "cell_type": "code",
   "execution_count": 646,
   "metadata": {},
   "outputs": [
    {
     "data": {
      "text/plain": [
       "(25, 25, 25, 25)"
      ]
     },
     "execution_count": 646,
     "metadata": {},
     "output_type": "execute_result"
    }
   ],
   "source": [
    "event_1_binned.shape"
   ]
  },
  {
   "cell_type": "code",
   "execution_count": 120,
   "metadata": {},
   "outputs": [
    {
     "data": {
      "text/plain": [
       "array([ 0.22148879])"
      ]
     },
     "execution_count": 120,
     "metadata": {},
     "output_type": "execute_result"
    }
   ],
   "source": [
    "fraction_events = np.random.uniform(0,1,size=1)\n",
    "fraction_events"
   ]
  },
  {
   "cell_type": "code",
   "execution_count": 121,
   "metadata": {},
   "outputs": [
    {
     "data": {
      "text/plain": [
       "773"
      ]
     },
     "execution_count": 121,
     "metadata": {},
     "output_type": "execute_result"
    }
   ],
   "source": [
    "number_mcdata_events = len(events)\n",
    "number_mcdata_events"
   ]
  },
  {
   "cell_type": "code",
   "execution_count": 122,
   "metadata": {},
   "outputs": [
    {
     "data": {
      "text/plain": [
       "171"
      ]
     },
     "execution_count": 122,
     "metadata": {},
     "output_type": "execute_result"
    }
   ],
   "source": [
    "number_mcdata_selection = int(number_mcdata_events * fraction_events)\n",
    "number_mcdata_selection"
   ]
  },
  {
   "cell_type": "code",
   "execution_count": 130,
   "metadata": {
    "collapsed": true
   },
   "outputs": [],
   "source": [
    "def select_events_labels(events, labels, fraction_events, return_selection_args=False):    \n",
    "    number_mcdata_events = len(events)\n",
    "    number_mcdata_selection = int(number_mcdata_events * fraction_events)\n",
    "    mask = np.zeros(shape=number_mcdata_events)\n",
    "    selected_args = np.random.choice(np.arange(0,number_mcdata_events), \n",
    "                                 size=number_mcdata_selection, replace=False)\n",
    "    mask[selected_args] = 1\n",
    "    events_selected = np.compress(mask, events)\n",
    "    labels_selected = np.compress(mask, labels)\n",
    "    if return_selection_args:\n",
    "        return events_selected, labels_selected, selected_args\n",
    "    else:\n",
    "        return events_selected, labels_selected"
   ]
  },
  {
   "cell_type": "code",
   "execution_count": 135,
   "metadata": {
    "collapsed": true
   },
   "outputs": [],
   "source": [
    "import hypothesis as hyp\n",
    "import hypothesis.strategies as hyp_strat"
   ]
  },
  {
   "cell_type": "code",
   "execution_count": null,
   "metadata": {
    "collapsed": true
   },
   "outputs": [],
   "source": []
  },
  {
   "cell_type": "code",
   "execution_count": 139,
   "metadata": {
    "collapsed": true
   },
   "outputs": [],
   "source": [
    "@hyp.given(hyp_strat.floats(min_value=0, max_value=1))\n",
    "def test_select_events_labels(events, labels, fraction_events):\n",
    "    events_selected, labels_selected, selected_args = select_events_labels(events, labels, fraction_events, return_selection_args=True)\n",
    "    selected_args.sort()\n",
    "    for i,arg in enumerate(selected_args):\n",
    "        assert np.all(events_selected[i] == events[arg])\n",
    "        assert np.all(labels_selected[i] == labels[arg])"
   ]
  },
  {
   "cell_type": "code",
   "execution_count": 141,
   "metadata": {
    "collapsed": true
   },
   "outputs": [],
   "source": [
    "test_select_events_labels(events, labels)"
   ]
  },
  {
   "cell_type": "code",
   "execution_count": 125,
   "metadata": {},
   "outputs": [
    {
     "data": {
      "text/plain": [
       "array([  0,   3,   5,  10,  12,  16,  25,  27,  31,  33,  36,  39,  42,\n",
       "        46,  53,  61,  64,  71,  76,  81,  84,  86,  90,  93,  98, 106,\n",
       "       111, 112, 132, 140, 141, 146, 160, 161, 163, 164, 165, 171, 173,\n",
       "       177, 180, 182, 184, 192, 195, 197, 198, 200, 201, 207, 216, 217,\n",
       "       220, 221, 224, 226, 232, 241, 244, 251, 254, 265, 266, 270, 271,\n",
       "       272, 273, 275, 278, 282, 285, 290, 297, 306, 308, 318, 319, 324,\n",
       "       325, 350, 355, 358, 362, 369, 378, 381, 387, 415, 424, 425, 430,\n",
       "       431, 452, 455, 469, 471, 480, 483, 484, 486, 489, 495, 496, 499,\n",
       "       501, 503, 510, 520, 530, 536, 538, 543, 544, 545, 551, 557, 560,\n",
       "       562, 564, 571, 572, 575, 576, 577, 583, 587, 592, 595, 600, 601,\n",
       "       602, 603, 605, 606, 616, 618, 620, 624, 625, 634, 635, 646, 647,\n",
       "       648, 649, 652, 656, 658, 659, 665, 676, 682, 688, 690, 692, 694,\n",
       "       701, 707, 708, 718, 722, 723, 725, 729, 730, 740, 746, 755, 756,\n",
       "       759, 765])"
      ]
     },
     "execution_count": 125,
     "metadata": {},
     "output_type": "execute_result"
    }
   ],
   "source": [
    "selected_args.sort()\n",
    "selected_args"
   ]
  },
  {
   "cell_type": "code",
   "execution_count": 126,
   "metadata": {},
   "outputs": [
    {
     "data": {
      "text/plain": [
       "array([(1, 0), (14, 0), (58, 0), (82, 0), (120, 0), (146, 0), (186, 0),\n",
       "       (204, 0), (215, 0), (223, 0), (237, 0), (258, 0), (275, 0),\n",
       "       (313, 0), (336, 0), (391, 0), (405, 0), (434, 0), (454, 0),\n",
       "       (479, 0), (518, 0), (524, 0), (536, 0), (555, 0), (592, 0),\n",
       "       (678, 0), (705, 0), (709, 0), (813, 0), (919, 0), (928, 0),\n",
       "       (950, 0), (1049, 0), (1051, 0), (1060, 0), (1070, 0), (1074, 0),\n",
       "       (1092, 0), (1096, 0), (1128, 0), (1164, 0), (1175, 0), (1179, 0),\n",
       "       (1218, 0), (1241, 0), (1252, 0), (1281, 0), (1311, 0), (1321, 0),\n",
       "       (1371, 0), (1424, 0), (1428, 0), (1455, 0), (1456, 0), (1490, 0),\n",
       "       (1506, 0), (1527, 0), (1582, 0), (1591, 0), (1638, 0), (1650, 0),\n",
       "       (1706, 0), (1712, 0), (1737, 0), (1738, 0), (1757, 0), (1762, 0),\n",
       "       (1774, 0), (1786, 0), (1801, 0), (1817, 0), (1846, 0), (1873, 0),\n",
       "       (1914, 0), (1919, 0), (1972, 0), (1975, 0), (2014, 0), (2021, 0),\n",
       "       (2182, 0), (2251, 0), (2267, 0), (2291, 0), (2330, 0), (2414, 0),\n",
       "       (2448, 0), (2474, 0), (2648, 0), (2700, 1), (2703, 0), (2757, 0),\n",
       "       (2762, 0), (2895, 0), (2912, 0), (3045, 0), (3071, 0), (3156, 0),\n",
       "       (3209, 0), (3212, 0), (3219, 0), (3236, 0), (3314, 0), (3315, 0),\n",
       "       (3326, 0), (3340, 0), (3343, 0), (3420, 0), (3482, 0), (3572, 0),\n",
       "       (3619, 0), (3625, 0), (3643, 0), (3648, 0), (3652, 0), (3677, 0),\n",
       "       (3701, 0), (3732, 0), (3741, 0), (3751, 0), (3784, 0), (3795, 0),\n",
       "       (3814, 0), (3815, 0), (3816, 0), (3846, 0), (3869, 0), (3893, 0),\n",
       "       (3898, 0), (3916, 0), (3917, 0), (3919, 0), (3923, 0), (3934, 0),\n",
       "       (3936, 0), (4005, 0), (4010, 0), (4014, 0), (4039, 0), (4052, 0),\n",
       "       (4103, 1), (4125, 0), (4218, 0), (4221, 0), (4231, 0), (4254, 0),\n",
       "       (4272, 0), (4292, 0), (4295, 0), (4305, 0), (4344, 0), (4388, 0),\n",
       "       (4431, 0), (4456, 0), (4458, 0), (4466, 0), (4472, 0), (4515, 0),\n",
       "       (4571, 0), (4594, 0), (4688, 0), (4698, 0), (4713, 0), (4735, 0),\n",
       "       (4774, 0), (4777, 0), (4831, 0), (4895, 0), (4932, 1), (4937, 0),\n",
       "       (4948, 0), (4992, 0)], dtype=object)"
      ]
     },
     "execution_count": 126,
     "metadata": {},
     "output_type": "execute_result"
    }
   ],
   "source": [
    "events_selected"
   ]
  },
  {
   "cell_type": "code",
   "execution_count": 107,
   "metadata": {},
   "outputs": [
    {
     "data": {
      "text/plain": [
       "array([0, 0, 1, 0, 0, 0, 2, 0, 1, 1, 0, 1, 0, 0, 1, 1, 1, 2, 1, 0, 0, 2, 1,\n",
       "       1, 0, 0, 0, 2, 0, 0, 0, 0, 1, 2, 0, 0, 2, 2, 1, 0, 0, 1, 0, 1, 1, 2,\n",
       "       0, 0, 1, 2, 2, 0, 2, 0, 2, 1, 1, 2, 0, 0, 1, 2, 0, 2, 2, 0, 2, 0, 2,\n",
       "       2, 0, 1, 1, 2, 0, 1, 0], dtype=int32)"
      ]
     },
     "execution_count": 107,
     "metadata": {},
     "output_type": "execute_result"
    }
   ],
   "source": [
    "labels_selected"
   ]
  },
  {
   "cell_type": "code",
   "execution_count": 102,
   "metadata": {},
   "outputs": [
    {
     "name": "stdout",
     "output_type": "stream",
     "text": [
      "30.5 µs ± 328 ns per loop (mean ± std. dev. of 7 runs, 10000 loops each)\n"
     ]
    }
   ],
   "source": [
    "%%timeit\n",
    "events[sorted(selected_args)]"
   ]
  },
  {
   "cell_type": "code",
   "execution_count": null,
   "metadata": {
    "collapsed": true
   },
   "outputs": [],
   "source": []
  },
  {
   "cell_type": "code",
   "execution_count": 103,
   "metadata": {},
   "outputs": [
    {
     "name": "stdout",
     "output_type": "stream",
     "text": [
      "11.6 µs ± 286 ns per loop (mean ± std. dev. of 7 runs, 100000 loops each)\n"
     ]
    }
   ],
   "source": [
    "%%timeit\n"
   ]
  },
  {
   "cell_type": "code",
   "execution_count": 58,
   "metadata": {},
   "outputs": [
    {
     "ename": "NameError",
     "evalue": "name 'df' is not defined",
     "output_type": "error",
     "traceback": [
      "\u001b[0;31m---------------------------------------------------------------------------\u001b[0m",
      "\u001b[0;31mNameError\u001b[0m                                 Traceback (most recent call last)",
      "\u001b[0;32m<ipython-input-58-ca661d95f8cb>\u001b[0m in \u001b[0;36m<module>\u001b[0;34m()\u001b[0m\n\u001b[0;32m----> 1\u001b[0;31m \u001b[0mwrite_events_and_labels_to_hdf\u001b[0m\u001b[0;34m(\u001b[0m\u001b[0;34m\"binned_data.hdf5\"\u001b[0m\u001b[0;34m,\u001b[0m \u001b[0mdf\u001b[0m\u001b[0;34m,\u001b[0m \u001b[0mevents\u001b[0m\u001b[0;34m[\u001b[0m\u001b[0;34m:\u001b[0m\u001b[0;36m10\u001b[0m\u001b[0;34m]\u001b[0m\u001b[0;34m,\u001b[0m \u001b[0mlabels\u001b[0m\u001b[0;34m[\u001b[0m\u001b[0;34m:\u001b[0m\u001b[0;36m10\u001b[0m\u001b[0;34m]\u001b[0m\u001b[0;34m)\u001b[0m\u001b[0;34m\u001b[0m\u001b[0m\n\u001b[0m",
      "\u001b[0;31mNameError\u001b[0m: name 'df' is not defined"
     ]
    }
   ],
   "source": [
    "write_events_and_labels_to_hdf(\"binned_data.hdf5\", df, events[:10], labels[:10])"
   ]
  },
  {
   "cell_type": "code",
   "execution_count": 6,
   "metadata": {
    "collapsed": true
   },
   "outputs": [],
   "source": [
    "def _write_events_and_labels_to_hdf(hdf_filepath, run_dataframe, events, labels, dom_geometry_dict,\n",
    "                                   data_key=\"EventData\", labels_key=\"EventLabels\"):\n",
    "    num_events = len(events)\n",
    "    num_labels = len(labels)\n",
    "    if num_events != num_labels:\n",
    "        # @improve: replace with warning add logging\n",
    "        raise ValueError(\"length of arguments `events` ({}) and `labels` ({}) must be the same.\".format(num_events, num_labels))\n",
    "    with h5py.File(hdf_filepath, \"w\") as hdf_file:\n",
    "        hdf_file.create_dataset(labels_key, data=labels)\n",
    "        data_group = hdf_file.create_group(data_key)\n",
    "        max_event_digits = int(np.log10(max(events)[0])) + 1\n",
    "        for event in events:\n",
    "            event_format = \"event_{event:0{digits}}_{subevent}\"\n",
    "            event_name = event_format.format(digits=max_event_digits, event=event[0], subevent=event[1])\n",
    "            event_binned = get_4d_event_histogram(get_string_om_charge_by_timebin(run_dataframe.loc[event]),\n",
    "                                                  dom_geometry_dict)\n",
    "            data_group.create_dataset(event_name, data=event_binned)\n",
    "        hdf_file.flush()"
   ]
  },
  {
   "cell_type": "code",
   "execution_count": 59,
   "metadata": {
    "collapsed": true
   },
   "outputs": [],
   "source": [
    "_write_events_and_labels_to_hdf(\"binned_data.hdf5\", string_om_charge_dataframe, events[:10], labels[:10], dom_geometry_dict)"
   ]
  },
  {
   "cell_type": "code",
   "execution_count": null,
   "metadata": {
    "collapsed": true
   },
   "outputs": [],
   "source": []
  },
  {
   "cell_type": "code",
   "execution_count": 3,
   "metadata": {
    "collapsed": true
   },
   "outputs": [],
   "source": [
    "def get_random_selection_mask(size_all, size_selection):\n",
    "    mask = np.zeros(shape=size_all, dtype=np.bool)\n",
    "    selected_args = np.random.choice(np.arange(0, size_all), size=size_selection, replace=False)\n",
    "    mask[selected_args] = 1\n",
    "    return mask"
   ]
  },
  {
   "cell_type": "code",
   "execution_count": 63,
   "metadata": {},
   "outputs": [
    {
     "data": {
      "text/plain": [
       "array([ True, False, False, False,  True,  True, False, False,  True,  True], dtype=bool)"
      ]
     },
     "execution_count": 63,
     "metadata": {},
     "output_type": "execute_result"
    }
   ],
   "source": [
    "get_random_selection_mask(10, 5)\n"
   ]
  },
  {
   "cell_type": "code",
   "execution_count": 64,
   "metadata": {
    "collapsed": true
   },
   "outputs": [],
   "source": [
    "def read_events_and_labels_from_hdf(hdf_file, number_events=None, random_seletion=True, return_metadata=False, \n",
    "                                    data_key=\"EventData\", labels_key=\"EventLabels\"):\n",
    "    with h5py.File(hdf_file) as hdf:\n",
    "        metadata = dict(hdf.attrs)\n",
    "        number_all_events = metadata[\"number_events\"]\n",
    "        if number_events is None:\n",
    "            number_events = number_all_events\n",
    "            selected_data_keys = hdf[data_key].keys()\n",
    "        else:\n",
    "            mask = get_random_selection_mask(number_all_events, number_events)\n",
    "            selected_data_keys = [k for k,m in zip(hdf[data_key].keys(), mask) if m == 1]\n",
    "        events = np.empty(shape=(number_events, *metadata[\"binning\"]))\n",
    "        for i, key in enumerate(selected_data_keys):\n",
    "            events[i] = hdf[data_key][key]\n",
    "        labels = hdf[labels_key][mask]\n",
    "        \n",
    "        if return_metadata:                   \n",
    "            return events, labels, metadata\n",
    "        else:\n",
    "            return events, labels"
   ]
  },
  {
   "cell_type": "code",
   "execution_count": 70,
   "metadata": {
    "collapsed": true
   },
   "outputs": [],
   "source": [
    "e, l = read_events_and_labels_from_hdf(\"Level2_nugen_numu_IC86.2012.011069.000000.formatted.hdf5\",\n",
    "                                        number_events=32)"
   ]
  },
  {
   "cell_type": "code",
   "execution_count": 4,
   "metadata": {
    "collapsed": true
   },
   "outputs": [],
   "source": [
    "def read_events_and_labels_from_hdffiles(hdf_files, number_events=16, \n",
    "                                         random_seletion=True, return_metadata=False,\n",
    "                                         data_projection=\"xyz\",\n",
    "                                         data_key=\"EventData\", labels_key=\"EventLabels\"):\n",
    "    hdf_files = sorted(hdf_files)\n",
    "    file_indices = range(len(hdf_files))\n",
    "    dimensions_dict = {\"t\":0, \"x\":1, \"y\":2, \"z\":3}\n",
    "    dimensions = [dimensions_dict[d] for d in data_projection]\n",
    "    \n",
    "    \n",
    "    hdf_file_objs = []\n",
    "    metadata = []\n",
    "    for hdf_file in hdf_files:\n",
    "        hdf_file_objs.append(h5py.File(hdf_file))\n",
    "        metadata.append(dict(hdf_file_objs[-1].attrs))\n",
    "    \n",
    "    while True:\n",
    "        global_mask = get_random_selection_mask(sum([data[\"number_events\"] for data in metadata]),number_events)\n",
    "            \n",
    "        masks = []\n",
    "        bounds = []\n",
    "        lower_bound = 0\n",
    "        for i in file_indices:\n",
    "            upper_bound = lower_bound + metadata[i][\"number_events\"]\n",
    "            masks.append(global_mask[lower_bound:upper_bound])\n",
    "            bounds.append(len(masks[i][masks[i]]))\n",
    "            lower_bound = upper_bound\n",
    "        bounds.insert(0,0)\n",
    "        \n",
    "        bounds = np.cumsum(bounds)\n",
    "        \n",
    "        events = np.empty(shape=(number_events, *metadata[0][\"binning\"][dimensions]))\n",
    "        labels = np.empty(shape=(number_events))\n",
    "        event_ids = []\n",
    "        for i in file_indices:\n",
    "            if any(masks[i]):\n",
    "                events[bounds[i]:bounds[i+1]] = [project_4d_histogram_onto_plane(data[:], projection=data_projection) for data, mask in zip(hdf_file_objs[i][data_key].values(), \n",
    "                                                                        masks[i]) if mask]\n",
    "                labels[bounds[i]:bounds[i+1]] = hdf_file_objs[i][labels_key][masks[i]]\n",
    "               \n",
    "                event_ids.extend([event for event, mask in zip(hdf_file_objs[i][data_key].keys(), masks[i]) if mask])\n",
    "        yield events, labels, event_ids\n",
    "    else:\n",
    "        print(\"Closed?\")\n",
    "    \n",
    "        for file in hdf_file_obj.values():\n",
    "            file.close()\n",
    "    \n",
    "    "
   ]
  },
  {
   "cell_type": "code",
   "execution_count": 171,
   "metadata": {},
   "outputs": [
    {
     "name": "stdout",
     "output_type": "stream",
     "text": [
      "(8, 25, 25)\n",
      "(8,)\n",
      "['event_000000_120_0', 'event_000000_330_0', 'event_000000_389_0', 'event_000001_215_0', 'event_000001_417_0', 'event_000002_097_0', 'event_000002_131_0', 'event_000002_159_0']\n"
     ]
    }
   ],
   "source": [
    "\n",
    "masks = read_events_and_labels_from_hdffiles([\"Level2_nugen_numu_IC86.2012.011069.000000.formatted.hdf5\",\n",
    "                                              \"Level2_nugen_numu_IC86.2012.011069.000001.formatted.hdf5\",\n",
    "                                              \"Level2_nugen_numu_IC86.2012.011069.000002.formatted.hdf5\"],\n",
    "                                              number_events=8, data_projection=\"xz\")\n",
    "\n",
    "masks_= next(masks)\n",
    "print(masks_[0].shape)\n",
    "print(masks_[1].shape)\n",
    "print(masks_[2])"
   ]
  },
  {
   "cell_type": "code",
   "execution_count": 190,
   "metadata": {},
   "outputs": [
    {
     "name": "stdout",
     "output_type": "stream",
     "text": [
      "34.5 ms ± 1.44 ms per loop (mean ± std. dev. of 7 runs, 10 loops each)\n"
     ]
    }
   ],
   "source": [
    "%timeit next(masks)"
   ]
  },
  {
   "cell_type": "code",
   "execution_count": 180,
   "metadata": {
    "collapsed": true
   },
   "outputs": [],
   "source": [
    "def load_data(hdf_files, batchsize=16, projection=\"xyz\", onehot_encoding=True, classes=(\"track\", \"cascade\", \"faint\")):\n",
    "    label_names = {\"track\": 0, \"cascade\": 1, \"faint\": 2,\n",
    "                   \"starting_track\": 3, \"stopping_track\": 4,\n",
    "                   \"contained_track\": 5, \"trough_track\": 6,\n",
    "                   \"full_cascade\": 7, \"part_cascade\": 8}\n",
    "    event_generator = read_events_and_labels_from_hdffiles(hdf_files,\n",
    "                                                           number_events=batchsize,\n",
    "                                                           random_seletion=True,\n",
    "                                                           data_projection=projection,\n",
    "                                                           data_key=\"EventData\",\n",
    "                                                           labels_key=\"EventLabels\")\n",
    "    for events, labels, event_ids in event_generator:\n",
    "        labels = keras.utils.np_utils.to_categorical(labels, len(classes))\n",
    "        yield events, labels, event_ids"
   ]
  },
  {
   "cell_type": "code",
   "execution_count": 181,
   "metadata": {
    "collapsed": true
   },
   "outputs": [],
   "source": [
    "gen = load_data([\"Level2_nugen_numu_IC86.2012.011069.000000.formatted.hdf5\",\n",
    "                 \"Level2_nugen_numu_IC86.2012.011069.000001.formatted.hdf5\",\n",
    "                 \"Level2_nugen_numu_IC86.2012.011069.000002.formatted.hdf5\"],\n",
    "                 batchsize=8, projection=\"xz\")"
   ]
  },
  {
   "cell_type": "code",
   "execution_count": 189,
   "metadata": {},
   "outputs": [
    {
     "name": "stdout",
     "output_type": "stream",
     "text": [
      "35.4 ms ± 835 µs per loop (mean ± std. dev. of 7 runs, 10 loops each)\n"
     ]
    }
   ],
   "source": [
    "%timeit event = next(gen)\n"
   ]
  },
  {
   "cell_type": "code",
   "execution_count": 188,
   "metadata": {},
   "outputs": [
    {
     "data": {
      "text/plain": [
       "array([ 1.,  0.,  0.])"
      ]
     },
     "execution_count": 188,
     "metadata": {},
     "output_type": "execute_result"
    }
   ],
   "source": [
    "event[1][0]"
   ]
  },
  {
   "cell_type": "code",
   "execution_count": 101,
   "metadata": {},
   "outputs": [
    {
     "data": {
      "text/plain": [
       "<matplotlib.image.AxesImage at 0x7f4e8a0cf780>"
      ]
     },
     "execution_count": 101,
     "metadata": {},
     "output_type": "execute_result"
    },
    {
     "data": {
      "image/png": "[encoded data removed]",
      "text/plain": [
       "<matplotlib.figure.Figure at 0x7f4e8a1c5828>"
      ]
     },
     "metadata": {},
     "output_type": "display_data"
    }
   ],
   "source": [
    "plt.imshow(np.log1p(masks_[0][5]),origin=\"lower\")"
   ]
  },
  {
   "cell_type": "code",
   "execution_count": 96,
   "metadata": {},
   "outputs": [
    {
     "data": {
      "text/plain": [
       "array([ 0.,  0.,  2.,  0.,  2.,  0.,  0.,  1.])"
      ]
     },
     "execution_count": 96,
     "metadata": {},
     "output_type": "execute_result"
    }
   ],
   "source": [
    "masks_[1]"
   ]
  },
  {
   "cell_type": "code",
   "execution_count": 308,
   "metadata": {
    "collapsed": true
   },
   "outputs": [],
   "source": [
    "masks.close()"
   ]
  },
  {
   "cell_type": "code",
   "execution_count": null,
   "metadata": {
    "collapsed": true
   },
   "outputs": [],
   "source": []
  },
  {
   "cell_type": "code",
   "execution_count": 107,
   "metadata": {},
   "outputs": [
    {
     "ename": "AttributeError",
     "evalue": "'generator' object has no attribute 'items'",
     "output_type": "error",
     "traceback": [
      "\u001b[0;31m---------------------------------------------------------------------------\u001b[0m",
      "\u001b[0;31mAttributeError\u001b[0m                            Traceback (most recent call last)",
      "\u001b[0;32m<ipython-input-107-373e90f00af8>\u001b[0m in \u001b[0;36m<module>\u001b[0;34m()\u001b[0m\n\u001b[1;32m      3\u001b[0m                                               number_events=16)\n\u001b[1;32m      4\u001b[0m \u001b[0mnum_all_selected\u001b[0m \u001b[0;34m=\u001b[0m \u001b[0;34m[\u001b[0m\u001b[0;34m]\u001b[0m\u001b[0;34m\u001b[0m\u001b[0m\n\u001b[0;32m----> 5\u001b[0;31m \u001b[0;32mfor\u001b[0m \u001b[0mfile\u001b[0m\u001b[0;34m,\u001b[0m \u001b[0mmask\u001b[0m \u001b[0;32min\u001b[0m \u001b[0mmasks\u001b[0m\u001b[0;34m.\u001b[0m\u001b[0mitems\u001b[0m\u001b[0;34m(\u001b[0m\u001b[0;34m)\u001b[0m\u001b[0;34m:\u001b[0m\u001b[0;34m\u001b[0m\u001b[0m\n\u001b[0m\u001b[1;32m      6\u001b[0m     \u001b[0mprint\u001b[0m\u001b[0;34m(\u001b[0m\u001b[0mnp\u001b[0m\u001b[0;34m.\u001b[0m\u001b[0marange\u001b[0m\u001b[0;34m(\u001b[0m\u001b[0mlen\u001b[0m\u001b[0;34m(\u001b[0m\u001b[0mmask\u001b[0m\u001b[0;34m)\u001b[0m\u001b[0;34m)\u001b[0m\u001b[0;34m[\u001b[0m\u001b[0mmask\u001b[0m\u001b[0;34m]\u001b[0m\u001b[0;34m)\u001b[0m\u001b[0;34m\u001b[0m\u001b[0m\n\u001b[1;32m      7\u001b[0m     \u001b[0;32mwith\u001b[0m \u001b[0mh5py\u001b[0m\u001b[0;34m.\u001b[0m\u001b[0mFile\u001b[0m\u001b[0;34m(\u001b[0m\u001b[0mfile\u001b[0m\u001b[0;34m,\u001b[0m \u001b[0;34m\"r\"\u001b[0m\u001b[0;34m)\u001b[0m \u001b[0;32mas\u001b[0m \u001b[0mhdf\u001b[0m\u001b[0;34m:\u001b[0m\u001b[0;34m\u001b[0m\u001b[0m\n",
      "\u001b[0;31mAttributeError\u001b[0m: 'generator' object has no attribute 'items'"
     ]
    }
   ],
   "source": [
    "masks = read_events_and_labels_from_hdffiles([\"Level2_nugen_numu_IC86.2012.011069.000000.formatted.hdf5\",\n",
    "                                              \"Level2_nugen_numu_IC86.2012.011069.000001.formatted.hdf5\"],\n",
    "                                              number_events=16)\n",
    "num_all_selected = []\n",
    "for file, mask in masks.items():\n",
    "    print(np.arange(len(mask))[mask])\n",
    "    with h5py.File(file, \"r\") as hdf:\n",
    "        num_current_selection = np.sum(mask)\n",
    "        num_all = len(mask)\n",
    "        assert num_all == hdf.attrs[\"number_events\"]\n",
    "        num_all_selected.append(num_all)\n",
    "    \n",
    "    print(file, num_all, num_current_selection, sum(num_all_selected))"
   ]
  },
  {
   "cell_type": "code",
   "execution_count": null,
   "metadata": {
    "collapsed": true
   },
   "outputs": [],
   "source": []
  },
  {
   "cell_type": "code",
   "execution_count": 69,
   "metadata": {},
   "outputs": [
    {
     "data": {
      "text/plain": [
       "array([0, 0, 1, 2, 0, 0, 0, 0, 0, 0, 1, 2, 0, 1, 1, 0, 0, 0, 0, 2, 1, 1, 1,\n",
       "       0, 2, 0, 2, 0, 2, 0, 0, 1], dtype=int32)"
      ]
     },
     "execution_count": 69,
     "metadata": {},
     "output_type": "execute_result"
    }
   ],
   "source": [
    "l"
   ]
  },
  {
   "cell_type": "code",
   "execution_count": null,
   "metadata": {
    "collapsed": true
   },
   "outputs": [],
   "source": []
  },
  {
   "cell_type": "code",
   "execution_count": 35,
   "metadata": {},
   "outputs": [
    {
     "ename": "NameError",
     "evalue": "name 'hdf_r' is not defined",
     "output_type": "error",
     "traceback": [
      "\u001b[0;31m---------------------------------------------------------------------------\u001b[0m",
      "\u001b[0;31mNameError\u001b[0m                                 Traceback (most recent call last)",
      "\u001b[0;32m<ipython-input-35-fc50a2a03a41>\u001b[0m in \u001b[0;36m<module>\u001b[0;34m()\u001b[0m\n\u001b[0;32m----> 1\u001b[0;31m \u001b[0mhdf_r\u001b[0m\u001b[0;34m.\u001b[0m\u001b[0mclose\u001b[0m\u001b[0;34m(\u001b[0m\u001b[0;34m)\u001b[0m\u001b[0;34m\u001b[0m\u001b[0m\n\u001b[0m",
      "\u001b[0;31mNameError\u001b[0m: name 'hdf_r' is not defined"
     ]
    }
   ],
   "source": [
    "hdf_r.close()"
   ]
  },
  {
   "cell_type": "code",
   "execution_count": 294,
   "metadata": {
    "collapsed": true
   },
   "outputs": [],
   "source": [
    "hdf_r = h5py.File(\"Level2_nugen_numu_IC86.2012.011069.000001.formatted.hdf5\", \"r\")    "
   ]
  },
  {
   "cell_type": "code",
   "execution_count": 173,
   "metadata": {
    "collapsed": true
   },
   "outputs": [],
   "source": [
    "h = hdf_r[\"EventData\"]"
   ]
  },
  {
   "cell_type": "code",
   "execution_count": 192,
   "metadata": {},
   "outputs": [
    {
     "data": {
      "text/plain": [
       "[]"
      ]
     },
     "execution_count": 192,
     "metadata": {},
     "output_type": "execute_result"
    }
   ],
   "source": []
  },
  {
   "cell_type": "code",
   "execution_count": 174,
   "metadata": {},
   "outputs": [
    {
     "data": {
      "text/plain": [
       "['binning', 'mcdata_filename', 'runid', 'number_events']"
      ]
     },
     "execution_count": 174,
     "metadata": {},
     "output_type": "execute_result"
    }
   ],
   "source": [
    "list(hdf_r.attrs.keys())"
   ]
  },
  {
   "cell_type": "code",
   "execution_count": 37,
   "metadata": {
    "collapsed": true
   },
   "outputs": [],
   "source": [
    "testdict= dict(hdf_r.attrs)"
   ]
  },
  {
   "cell_type": "code",
   "execution_count": 86,
   "metadata": {},
   "outputs": [
    {
     "data": {
      "text/plain": [
       "'mcdata_filename'"
      ]
     },
     "execution_count": 86,
     "metadata": {},
     "output_type": "execute_result"
    }
   ],
   "source": [
    "sorted(testdict.keys())[1]"
   ]
  },
  {
   "cell_type": "code",
   "execution_count": 39,
   "metadata": {},
   "outputs": [
    {
     "name": "stdout",
     "output_type": "stream",
     "text": [
      "mcdata_filename : /home/luckyjosh/Documents/Masterarbeit/icecube_mcdata/output/Level2_nugen_numu_IC86.2012.011069.000001.hdf5\n",
      "runid : 000001\n"
     ]
    }
   ],
   "source": [
    "for k,v in sorted(testdict.items()):\n",
    "    print(k, ':', v)"
   ]
  },
  {
   "cell_type": "code",
   "execution_count": 167,
   "metadata": {},
   "outputs": [
    {
     "name": "stdout",
     "output_type": "stream",
     "text": [
      "runid 000000\n",
      "mcdata_filename /home/luckyjosh/Documents/Masterarbeit/icecube_mcdata/output/Level2_nugen_numu_IC86.2012.011069.000000.hdf5\n"
     ]
    }
   ],
   "source": [
    "for k, v in hdf_r.attrs.items():\n",
    "    print(k, v)\n"
   ]
  },
  {
   "cell_type": "code",
   "execution_count": null,
   "metadata": {
    "collapsed": true
   },
   "outputs": [],
   "source": []
  },
  {
   "cell_type": "code",
   "execution_count": 193,
   "metadata": {},
   "outputs": [
    {
     "data": {
      "text/plain": [
       "(8, 25, 25, 25, 25)"
      ]
     },
     "execution_count": 193,
     "metadata": {},
     "output_type": "execute_result"
    }
   ],
   "source": [
    "np.array([v[:] for v,m in zip(hdf_r[\"EventData\"].values(), mask) if  m]).shape"
   ]
  },
  {
   "cell_type": "code",
   "execution_count": 162,
   "metadata": {},
   "outputs": [
    {
     "name": "stdout",
     "output_type": "stream",
     "text": [
      "EventData\n",
      "EventData/event_001_0\n",
      "EventData/event_004_0\n",
      "EventData/event_009_0\n",
      "EventData/event_014_0\n",
      "EventData/event_033_0\n",
      "EventData/event_058_0\n",
      "EventData/event_066_0\n",
      "EventData/event_069_0\n",
      "EventData/event_073_0\n",
      "EventData/event_078_0\n",
      "EventData/event_082_0\n",
      "EventData/event_106_0\n",
      "EventData/event_120_0\n",
      "EventData/event_131_0\n",
      "EventData/event_134_0\n",
      "EventData/event_145_0\n",
      "EventData/event_146_0\n",
      "EventData/event_149_0\n",
      "EventData/event_152_0\n",
      "EventData/event_173_0\n",
      "EventData/event_175_0\n",
      "EventData/event_178_0\n",
      "EventData/event_179_0\n",
      "EventData/event_181_0\n",
      "EventData/event_185_0\n",
      "EventData/event_186_0\n",
      "EventData/event_189_0\n",
      "EventData/event_204_0\n",
      "EventData/event_206_0\n",
      "EventData/event_207_0\n",
      "EventData/event_209_0\n",
      "EventData/event_215_0\n",
      "EventData/event_220_0\n",
      "EventData/event_223_0\n",
      "EventData/event_233_0\n",
      "EventData/event_236_0\n",
      "EventData/event_237_0\n",
      "EventData/event_240_0\n",
      "EventData/event_254_0\n",
      "EventData/event_258_0\n",
      "EventData/event_260_0\n",
      "EventData/event_266_0\n",
      "EventData/event_275_0\n",
      "EventData/event_277_0\n",
      "EventData/event_295_0\n",
      "EventData/event_311_0\n",
      "EventData/event_313_0\n",
      "EventData/event_324_0\n",
      "EventData/event_326_0\n",
      "EventData/event_327_0\n",
      "EventData/event_330_0\n",
      "EventData/event_335_0\n",
      "EventData/event_335_1\n",
      "EventData/event_336_0\n",
      "EventData/event_359_0\n",
      "EventData/event_362_0\n",
      "EventData/event_370_0\n",
      "EventData/event_371_0\n",
      "EventData/event_374_0\n",
      "EventData/event_381_0\n",
      "EventData/event_389_0\n",
      "EventData/event_391_0\n",
      "EventData/event_393_0\n",
      "EventData/event_398_0\n",
      "EventData/event_405_0\n",
      "EventData/event_406_0\n",
      "EventData/event_413_0\n",
      "EventData/event_413_1\n",
      "EventData/event_415_0\n",
      "EventData/event_415_1\n",
      "EventData/event_425_0\n",
      "EventData/event_434_0\n",
      "EventData/event_435_0\n",
      "EventData/event_436_0\n",
      "EventData/event_439_0\n",
      "EventData/event_441_0\n",
      "EventData/event_454_0\n",
      "EventLabels\n"
     ]
    }
   ],
   "source": [
    "hdf_r.visit(lambda name: print(name))\n",
    "\n",
    "\n"
   ]
  },
  {
   "cell_type": "code",
   "execution_count": 146,
   "metadata": {},
   "outputs": [
    {
     "data": {
      "text/plain": [
       "[<HDF5 dataset \"event_001_0\": shape (25, 25, 25, 25), type \"<f8\">,\n",
       " <HDF5 dataset \"event_004_0\": shape (25, 25, 25, 25), type \"<f8\">,\n",
       " <HDF5 dataset \"event_009_0\": shape (25, 25, 25, 25), type \"<f8\">,\n",
       " <HDF5 dataset \"event_014_0\": shape (25, 25, 25, 25), type \"<f8\">,\n",
       " <HDF5 dataset \"event_033_0\": shape (25, 25, 25, 25), type \"<f8\">,\n",
       " <HDF5 dataset \"event_058_0\": shape (25, 25, 25, 25), type \"<f8\">,\n",
       " <HDF5 dataset \"event_066_0\": shape (25, 25, 25, 25), type \"<f8\">,\n",
       " <HDF5 dataset \"event_069_0\": shape (25, 25, 25, 25), type \"<f8\">,\n",
       " <HDF5 dataset \"event_073_0\": shape (25, 25, 25, 25), type \"<f8\">,\n",
       " <HDF5 dataset \"event_078_0\": shape (25, 25, 25, 25), type \"<f8\">,\n",
       " <HDF5 dataset \"event_082_0\": shape (25, 25, 25, 25), type \"<f8\">,\n",
       " <HDF5 dataset \"event_106_0\": shape (25, 25, 25, 25), type \"<f8\">,\n",
       " <HDF5 dataset \"event_120_0\": shape (25, 25, 25, 25), type \"<f8\">,\n",
       " <HDF5 dataset \"event_131_0\": shape (25, 25, 25, 25), type \"<f8\">,\n",
       " <HDF5 dataset \"event_134_0\": shape (25, 25, 25, 25), type \"<f8\">,\n",
       " <HDF5 dataset \"event_145_0\": shape (25, 25, 25, 25), type \"<f8\">,\n",
       " <HDF5 dataset \"event_146_0\": shape (25, 25, 25, 25), type \"<f8\">,\n",
       " <HDF5 dataset \"event_149_0\": shape (25, 25, 25, 25), type \"<f8\">,\n",
       " <HDF5 dataset \"event_152_0\": shape (25, 25, 25, 25), type \"<f8\">,\n",
       " <HDF5 dataset \"event_173_0\": shape (25, 25, 25, 25), type \"<f8\">,\n",
       " <HDF5 dataset \"event_175_0\": shape (25, 25, 25, 25), type \"<f8\">,\n",
       " <HDF5 dataset \"event_178_0\": shape (25, 25, 25, 25), type \"<f8\">,\n",
       " <HDF5 dataset \"event_179_0\": shape (25, 25, 25, 25), type \"<f8\">,\n",
       " <HDF5 dataset \"event_181_0\": shape (25, 25, 25, 25), type \"<f8\">,\n",
       " <HDF5 dataset \"event_185_0\": shape (25, 25, 25, 25), type \"<f8\">,\n",
       " <HDF5 dataset \"event_186_0\": shape (25, 25, 25, 25), type \"<f8\">,\n",
       " <HDF5 dataset \"event_189_0\": shape (25, 25, 25, 25), type \"<f8\">,\n",
       " <HDF5 dataset \"event_204_0\": shape (25, 25, 25, 25), type \"<f8\">,\n",
       " <HDF5 dataset \"event_206_0\": shape (25, 25, 25, 25), type \"<f8\">,\n",
       " <HDF5 dataset \"event_207_0\": shape (25, 25, 25, 25), type \"<f8\">,\n",
       " <HDF5 dataset \"event_209_0\": shape (25, 25, 25, 25), type \"<f8\">,\n",
       " <HDF5 dataset \"event_215_0\": shape (25, 25, 25, 25), type \"<f8\">,\n",
       " <HDF5 dataset \"event_220_0\": shape (25, 25, 25, 25), type \"<f8\">,\n",
       " <HDF5 dataset \"event_223_0\": shape (25, 25, 25, 25), type \"<f8\">,\n",
       " <HDF5 dataset \"event_233_0\": shape (25, 25, 25, 25), type \"<f8\">,\n",
       " <HDF5 dataset \"event_236_0\": shape (25, 25, 25, 25), type \"<f8\">,\n",
       " <HDF5 dataset \"event_237_0\": shape (25, 25, 25, 25), type \"<f8\">,\n",
       " <HDF5 dataset \"event_240_0\": shape (25, 25, 25, 25), type \"<f8\">,\n",
       " <HDF5 dataset \"event_254_0\": shape (25, 25, 25, 25), type \"<f8\">,\n",
       " <HDF5 dataset \"event_258_0\": shape (25, 25, 25, 25), type \"<f8\">,\n",
       " <HDF5 dataset \"event_260_0\": shape (25, 25, 25, 25), type \"<f8\">,\n",
       " <HDF5 dataset \"event_266_0\": shape (25, 25, 25, 25), type \"<f8\">,\n",
       " <HDF5 dataset \"event_275_0\": shape (25, 25, 25, 25), type \"<f8\">,\n",
       " <HDF5 dataset \"event_277_0\": shape (25, 25, 25, 25), type \"<f8\">,\n",
       " <HDF5 dataset \"event_295_0\": shape (25, 25, 25, 25), type \"<f8\">,\n",
       " <HDF5 dataset \"event_311_0\": shape (25, 25, 25, 25), type \"<f8\">,\n",
       " <HDF5 dataset \"event_313_0\": shape (25, 25, 25, 25), type \"<f8\">,\n",
       " <HDF5 dataset \"event_324_0\": shape (25, 25, 25, 25), type \"<f8\">,\n",
       " <HDF5 dataset \"event_326_0\": shape (25, 25, 25, 25), type \"<f8\">,\n",
       " <HDF5 dataset \"event_327_0\": shape (25, 25, 25, 25), type \"<f8\">,\n",
       " <HDF5 dataset \"event_330_0\": shape (25, 25, 25, 25), type \"<f8\">,\n",
       " <HDF5 dataset \"event_335_0\": shape (25, 25, 25, 25), type \"<f8\">,\n",
       " <HDF5 dataset \"event_335_1\": shape (25, 25, 25, 25), type \"<f8\">,\n",
       " <HDF5 dataset \"event_336_0\": shape (25, 25, 25, 25), type \"<f8\">,\n",
       " <HDF5 dataset \"event_359_0\": shape (25, 25, 25, 25), type \"<f8\">,\n",
       " <HDF5 dataset \"event_362_0\": shape (25, 25, 25, 25), type \"<f8\">,\n",
       " <HDF5 dataset \"event_370_0\": shape (25, 25, 25, 25), type \"<f8\">,\n",
       " <HDF5 dataset \"event_371_0\": shape (25, 25, 25, 25), type \"<f8\">,\n",
       " <HDF5 dataset \"event_374_0\": shape (25, 25, 25, 25), type \"<f8\">,\n",
       " <HDF5 dataset \"event_381_0\": shape (25, 25, 25, 25), type \"<f8\">,\n",
       " <HDF5 dataset \"event_389_0\": shape (25, 25, 25, 25), type \"<f8\">,\n",
       " <HDF5 dataset \"event_391_0\": shape (25, 25, 25, 25), type \"<f8\">,\n",
       " <HDF5 dataset \"event_393_0\": shape (25, 25, 25, 25), type \"<f8\">,\n",
       " <HDF5 dataset \"event_398_0\": shape (25, 25, 25, 25), type \"<f8\">,\n",
       " <HDF5 dataset \"event_405_0\": shape (25, 25, 25, 25), type \"<f8\">,\n",
       " <HDF5 dataset \"event_406_0\": shape (25, 25, 25, 25), type \"<f8\">,\n",
       " <HDF5 dataset \"event_413_0\": shape (25, 25, 25, 25), type \"<f8\">,\n",
       " <HDF5 dataset \"event_413_1\": shape (25, 25, 25, 25), type \"<f8\">,\n",
       " <HDF5 dataset \"event_415_0\": shape (25, 25, 25, 25), type \"<f8\">,\n",
       " <HDF5 dataset \"event_415_1\": shape (25, 25, 25, 25), type \"<f8\">,\n",
       " <HDF5 dataset \"event_425_0\": shape (25, 25, 25, 25), type \"<f8\">,\n",
       " <HDF5 dataset \"event_434_0\": shape (25, 25, 25, 25), type \"<f8\">,\n",
       " <HDF5 dataset \"event_435_0\": shape (25, 25, 25, 25), type \"<f8\">,\n",
       " <HDF5 dataset \"event_436_0\": shape (25, 25, 25, 25), type \"<f8\">,\n",
       " <HDF5 dataset \"event_439_0\": shape (25, 25, 25, 25), type \"<f8\">,\n",
       " <HDF5 dataset \"event_441_0\": shape (25, 25, 25, 25), type \"<f8\">,\n",
       " <HDF5 dataset \"event_454_0\": shape (25, 25, 25, 25), type \"<f8\">]"
      ]
     },
     "execution_count": 146,
     "metadata": {},
     "output_type": "execute_result"
    }
   ],
   "source": [
    "list(hdf_r[\"EventData\"].values())"
   ]
  },
  {
   "cell_type": "code",
   "execution_count": 968,
   "metadata": {},
   "outputs": [
    {
     "data": {
      "text/plain": [
       "array([ 0.,  2.,  2.,  1.,  0.,  1.,  0.,  2.,  0.,  0.])"
      ]
     },
     "execution_count": 968,
     "metadata": {},
     "output_type": "execute_result"
    }
   ],
   "source": [
    "hdf_r[\"EventLabels\"][:]"
   ]
  },
  {
   "cell_type": "code",
   "execution_count": 935,
   "metadata": {
    "collapsed": true
   },
   "outputs": [],
   "source": [
    "d = hdf_r[\"EventData\"][\"event_01\"][:]"
   ]
  },
  {
   "cell_type": "code",
   "execution_count": 1041,
   "metadata": {
    "collapsed": true
   },
   "outputs": [],
   "source": [
    "hdf_r.close()"
   ]
  },
  {
   "cell_type": "code",
   "execution_count": 944,
   "metadata": {},
   "outputs": [
    {
     "data": {
      "text/plain": [
       "<matplotlib.image.AxesImage at 0x7f75265dcac8>"
      ]
     },
     "execution_count": 944,
     "metadata": {},
     "output_type": "execute_result"
    },
    {
     "data": {
      "image/png": "[encoded data removed]",
      "text/plain": [
       "<matplotlib.figure.Figure at 0x7f7527294470>"
      ]
     },
     "metadata": {},
     "output_type": "display_data"
    }
   ],
   "source": [
    "plt.imshow(np.log10(project_4d_histogram_onto_plane(d, projection=\"yz\")+1), origin=\"lower\")"
   ]
  },
  {
   "cell_type": "code",
   "execution_count": 960,
   "metadata": {},
   "outputs": [
    {
     "data": {
      "text/plain": [
       "<matplotlib.image.AxesImage at 0x7f7526344cc0>"
      ]
     },
     "execution_count": 960,
     "metadata": {},
     "output_type": "execute_result"
    },
    {
     "data": {
      "image/png": "[encoded data removed]",
      "text/plain": [
       "<matplotlib.figure.Figure at 0x7f752648e320>"
      ]
     },
     "metadata": {},
     "output_type": "display_data"
    }
   ],
   "source": [
    "plt.imshow(np.log(yz.T), origin=\"lower\")"
   ]
  },
  {
   "cell_type": "code",
   "execution_count": null,
   "metadata": {
    "collapsed": true
   },
   "outputs": [],
   "source": []
  },
  {
   "cell_type": "code",
   "execution_count": 853,
   "metadata": {
    "collapsed": true
   },
   "outputs": [],
   "source": [
    "!rm \"binned_data.hdf5\""
   ]
  },
  {
   "cell_type": "code",
   "execution_count": null,
   "metadata": {
    "collapsed": true
   },
   "outputs": [],
   "source": []
  },
  {
   "cell_type": "code",
   "execution_count": 166,
   "metadata": {
    "collapsed": true
   },
   "outputs": [],
   "source": [
    "def genfiles(files):\n",
    "    np.random.seed(0)\n",
    "    while True:\n",
    "        idx = np.random.randint(0, len(files))\n",
    "        yield files[idx]\n",
    "\n",
    "def genformat(files):\n",
    "    files_ = genfiles(files)\n",
    "    for file in files_:\n",
    "        yield file.upper()"
   ]
  },
  {
   "cell_type": "code",
   "execution_count": 167,
   "metadata": {
    "collapsed": true
   },
   "outputs": [],
   "source": [
    "genfile = genfiles(hdf5_files)"
   ]
  },
  {
   "cell_type": "code",
   "execution_count": 168,
   "metadata": {},
   "outputs": [
    {
     "name": "stdout",
     "output_type": "stream",
     "text": [
      "Level2_nugen_numu_IC86.2012.011069.000002.formatted.hdf5\n",
      "Level2_nugen_numu_IC86.2012.011069.000002.hdf5\n",
      "Level2_nugen_numu_IC86.2012.011069.000000.formatted.hdf5\n",
      "Level2_nugen_numu_IC86.2012.011069.000001.hdf5\n",
      "Level2_nugen_numu_IC86.2012.011069.000001.hdf5\n",
      "Level2_nugen_numu_IC86.2012.011069.000001.hdf5\n",
      "Level2_nugen_numu_IC86.2012.011069.000000.hdf5\n",
      "Level2_nugen_numu_IC86.2012.011069.000001.hdf5\n",
      "Level2_nugen_numu_IC86.2012.011069.000002.hdf5\n",
      "Level2_nugen_numu_IC86.2012.011069.000001.formatted.hdf5\n"
     ]
    }
   ],
   "source": [
    "count = 0\n",
    "for f in genfile:\n",
    "    print(f)\n",
    "    count += 1\n",
    "    if count == 10:\n",
    "        break"
   ]
  },
  {
   "cell_type": "code",
   "execution_count": 169,
   "metadata": {},
   "outputs": [
    {
     "name": "stdout",
     "output_type": "stream",
     "text": [
      "LEVEL2_NUGEN_NUMU_IC86.2012.011069.000002.FORMATTED.HDF5\n",
      "LEVEL2_NUGEN_NUMU_IC86.2012.011069.000002.HDF5\n",
      "LEVEL2_NUGEN_NUMU_IC86.2012.011069.000000.FORMATTED.HDF5\n",
      "LEVEL2_NUGEN_NUMU_IC86.2012.011069.000001.HDF5\n",
      "LEVEL2_NUGEN_NUMU_IC86.2012.011069.000001.HDF5\n",
      "LEVEL2_NUGEN_NUMU_IC86.2012.011069.000001.HDF5\n",
      "LEVEL2_NUGEN_NUMU_IC86.2012.011069.000000.HDF5\n",
      "LEVEL2_NUGEN_NUMU_IC86.2012.011069.000001.HDF5\n",
      "LEVEL2_NUGEN_NUMU_IC86.2012.011069.000002.HDF5\n",
      "LEVEL2_NUGEN_NUMU_IC86.2012.011069.000001.FORMATTED.HDF5\n"
     ]
    }
   ],
   "source": [
    "count = 0\n",
    "for f in genformat(hdf5_files):\n",
    "    print(f)\n",
    "    count += 1\n",
    "    if count == 10:\n",
    "        break"
   ]
  },
  {
   "cell_type": "code",
   "execution_count": null,
   "metadata": {
    "collapsed": true
   },
   "outputs": [],
   "source": []
  },
  {
   "cell_type": "code",
   "execution_count": null,
   "metadata": {
    "collapsed": true
   },
   "outputs": [],
   "source": []
  },
  {
   "cell_type": "code",
   "execution_count": null,
   "metadata": {
    "collapsed": true
   },
   "outputs": [],
   "source": []
  },
  {
   "cell_type": "code",
   "execution_count": null,
   "metadata": {
    "collapsed": true
   },
   "outputs": [],
   "source": []
  },
  {
   "cell_type": "code",
   "execution_count": null,
   "metadata": {
    "collapsed": true
   },
   "outputs": [],
   "source": []
  },
  {
   "cell_type": "code",
   "execution_count": null,
   "metadata": {
    "collapsed": true
   },
   "outputs": [],
   "source": []
  },
  {
   "cell_type": "code",
   "execution_count": 440,
   "metadata": {
    "collapsed": true
   },
   "outputs": [],
   "source": [
    "np.random.seed(0)"
   ]
  },
  {
   "cell_type": "code",
   "execution_count": 441,
   "metadata": {
    "collapsed": true
   },
   "outputs": [],
   "source": [
    "grid1 = np.random.uniform(0,1, size=(100,2))\n",
    "grid2 = np.random.uniform(0,1, size=(100,2))"
   ]
  },
  {
   "cell_type": "code",
   "execution_count": 508,
   "metadata": {},
   "outputs": [
    {
     "data": {
      "text/plain": [
       "<matplotlib.collections.PathCollection at 0x7f75304e4d68>"
      ]
     },
     "execution_count": 508,
     "metadata": {},
     "output_type": "execute_result"
    },
    {
     "data": {
      "image/png": "[encoded data removed]",
      "text/plain": [
       "<matplotlib.figure.Figure at 0x7f7527e72358>"
      ]
     },
     "metadata": {},
     "output_type": "display_data"
    }
   ],
   "source": [
    "plt.scatter(*grid1.T)\n"
   ]
  },
  {
   "cell_type": "code",
   "execution_count": 446,
   "metadata": {},
   "outputs": [
    {
     "data": {
      "text/plain": [
       "array([[ 3.,  4.,  1.,  6.,  6.],\n",
       "       [ 5.,  3.,  3.,  2.,  2.],\n",
       "       [ 4.,  3.,  6.,  5.,  5.],\n",
       "       [ 5.,  5.,  7.,  2.,  4.],\n",
       "       [ 4.,  4.,  3.,  7.,  1.]])"
      ]
     },
     "execution_count": 446,
     "metadata": {},
     "output_type": "execute_result"
    }
   ],
   "source": [
    "hist1, _, _ = np.histogram2d(*grid1.T, bins=5)\n",
    "hist1"
   ]
  },
  {
   "cell_type": "code",
   "execution_count": 483,
   "metadata": {
    "collapsed": true
   },
   "outputs": [],
   "source": [
    "from numpy.lib.stride_tricks import as_strided"
   ]
  },
  {
   "cell_type": "code",
   "execution_count": 556,
   "metadata": {
    "collapsed": true
   },
   "outputs": [],
   "source": [
    "def scatterbins(data, bins):\n",
    "    plt.scatter(*data.T)\n",
    "    hist, edgex, edgey = np.histogram2d(*data.T, bins=bins, range=((0,1),(0,1)))\n",
    "    plt.hlines(edgey, xmin=min(edgex), xmax=max(edgex), alpha=0.5)\n",
    "    plt.vlines(edgex, ymin=min(edgey), ymax=max(edgey), alpha=0.5)\n",
    "    bin_centerx = (edgex[1:] + edgex[:-1])/2\n",
    "    bin_centery = (edgey[1:] + edgey[:-1])/2\n",
    "    x,y = np.meshgrid(bin_centerx,bin_centery)\n",
    "    for i in range(bins):\n",
    "        for j in range(bins):\n",
    "            plt.text(x=x[i,j], y=y[i,j], s=str(hist[j,i]), fontdict={\"fontsize\":12, \"color\":\"red\"})\n",
    "    H = plt.hist2d(*data.T, range=((0,1),(0,1)), bins=bins, alpha=0.1)\n",
    "    plt.colorbar(orientation=\"horizontal\")\n"
   ]
  },
  {
   "cell_type": "code",
   "execution_count": 557,
   "metadata": {},
   "outputs": [
    {
     "data": {
      "image/png": "[encoded data removed]",
      "text/plain": [
       "<matplotlib.figure.Figure at 0x7f7527f4a8d0>"
      ]
     },
     "metadata": {},
     "output_type": "display_data"
    }
   ],
   "source": [
    "scatterbins(grid1, bins=5)    "
   ]
  },
  {
   "cell_type": "code",
   "execution_count": 532,
   "metadata": {},
   "outputs": [
    {
     "data": {
      "image/png": "[encoded data removed]",
      "text/plain": [
       "<matplotlib.figure.Figure at 0x7f7527a23ac8>"
      ]
     },
     "metadata": {},
     "output_type": "display_data"
    }
   ],
   "source": [
    "scatterbins(grid2, bins=5) "
   ]
  },
  {
   "cell_type": "code",
   "execution_count": 528,
   "metadata": {},
   "outputs": [
    {
     "data": {
      "image/png": "[encoded data removed]",
      "text/plain": [
       "<matplotlib.figure.Figure at 0x7f7527b706d8>"
      ]
     },
     "metadata": {},
     "output_type": "display_data"
    }
   ],
   "source": [
    "scatterbins(np.append(grid1,grid2, axis=0), bins=5)"
   ]
  },
  {
   "cell_type": "code",
   "execution_count": null,
   "metadata": {
    "collapsed": true
   },
   "outputs": [],
   "source": []
  },
  {
   "cell_type": "code",
   "execution_count": null,
   "metadata": {
    "collapsed": true
   },
   "outputs": [],
   "source": []
  },
  {
   "cell_type": "code",
   "execution_count": null,
   "metadata": {
    "collapsed": true
   },
   "outputs": [],
   "source": []
  },
  {
   "cell_type": "code",
   "execution_count": null,
   "metadata": {
    "collapsed": true
   },
   "outputs": [],
   "source": []
  },
  {
   "cell_type": "code",
   "execution_count": null,
   "metadata": {
    "collapsed": true
   },
   "outputs": [],
   "source": []
  },
  {
   "cell_type": "code",
   "execution_count": null,
   "metadata": {
    "collapsed": true
   },
   "outputs": [],
   "source": []
  },
  {
   "cell_type": "code",
   "execution_count": null,
   "metadata": {
    "collapsed": true
   },
   "outputs": [],
   "source": [
    "df_event209 = df[df.Event == 209].drop([\"Run\", \"Event\", \"SubEvent\", \"SubEventStream\", \"exists\", \"pmt\", \"vector_index\"], axis=1)\n",
    "df_event209 = df_event209.set_index([\"item\",\"string\",\"om\"]).sort_index()\n",
    "#df_event209"
   ]
  },
  {
   "cell_type": "code",
   "execution_count": null,
   "metadata": {
    "collapsed": true
   },
   "outputs": [],
   "source": [
    "\n",
    "df = f[f.keys()[1]]"
   ]
  },
  {
   "cell_type": "code",
   "execution_count": null,
   "metadata": {
    "collapsed": true
   },
   "outputs": [],
   "source": [
    "df_event1_pos = df[(df.Event == 1)]"
   ]
  },
  {
   "cell_type": "code",
   "execution_count": 61,
   "metadata": {},
   "outputs": [
    {
     "data": {
      "text/html": [
       "<div>\n",
       "<style>\n",
       "    .dataframe thead tr:only-child th {\n",
       "        text-align: right;\n",
       "    }\n",
       "\n",
       "    .dataframe thead th {\n",
       "        text-align: left;\n",
       "    }\n",
       "\n",
       "    .dataframe tbody tr th {\n",
       "        vertical-align: top;\n",
       "    }\n",
       "</style>\n",
       "<table border=\"1\" class=\"dataframe\">\n",
       "  <thead>\n",
       "    <tr style=\"text-align: right;\">\n",
       "      <th></th>\n",
       "      <th>Run</th>\n",
       "      <th>Event</th>\n",
       "      <th>SubEvent</th>\n",
       "      <th>SubEventStream</th>\n",
       "      <th>exists</th>\n",
       "      <th>string</th>\n",
       "      <th>om</th>\n",
       "      <th>pmt</th>\n",
       "      <th>vector_index</th>\n",
       "      <th>timebin</th>\n",
       "      <th>charge</th>\n",
       "    </tr>\n",
       "  </thead>\n",
       "  <tbody>\n",
       "    <tr>\n",
       "      <th>0</th>\n",
       "      <td>1106900001</td>\n",
       "      <td>5</td>\n",
       "      <td>0</td>\n",
       "      <td>1</td>\n",
       "      <td>1</td>\n",
       "      <td>2</td>\n",
       "      <td>1</td>\n",
       "      <td>0</td>\n",
       "      <td>0</td>\n",
       "      <td>24</td>\n",
       "      <td>0.850</td>\n",
       "    </tr>\n",
       "    <tr>\n",
       "      <th>1</th>\n",
       "      <td>1106900001</td>\n",
       "      <td>5</td>\n",
       "      <td>0</td>\n",
       "      <td>1</td>\n",
       "      <td>1</td>\n",
       "      <td>12</td>\n",
       "      <td>44</td>\n",
       "      <td>0</td>\n",
       "      <td>0</td>\n",
       "      <td>24</td>\n",
       "      <td>0.875</td>\n",
       "    </tr>\n",
       "    <tr>\n",
       "      <th>2</th>\n",
       "      <td>1106900001</td>\n",
       "      <td>5</td>\n",
       "      <td>0</td>\n",
       "      <td>1</td>\n",
       "      <td>1</td>\n",
       "      <td>17</td>\n",
       "      <td>4</td>\n",
       "      <td>0</td>\n",
       "      <td>0</td>\n",
       "      <td>16</td>\n",
       "      <td>0.825</td>\n",
       "    </tr>\n",
       "    <tr>\n",
       "      <th>3</th>\n",
       "      <td>1106900001</td>\n",
       "      <td>5</td>\n",
       "      <td>0</td>\n",
       "      <td>1</td>\n",
       "      <td>1</td>\n",
       "      <td>21</td>\n",
       "      <td>14</td>\n",
       "      <td>0</td>\n",
       "      <td>0</td>\n",
       "      <td>22</td>\n",
       "      <td>1.225</td>\n",
       "    </tr>\n",
       "    <tr>\n",
       "      <th>4</th>\n",
       "      <td>1106900001</td>\n",
       "      <td>5</td>\n",
       "      <td>0</td>\n",
       "      <td>1</td>\n",
       "      <td>1</td>\n",
       "      <td>22</td>\n",
       "      <td>60</td>\n",
       "      <td>0</td>\n",
       "      <td>0</td>\n",
       "      <td>15</td>\n",
       "      <td>1.275</td>\n",
       "    </tr>\n",
       "    <tr>\n",
       "      <th>5</th>\n",
       "      <td>1106900001</td>\n",
       "      <td>5</td>\n",
       "      <td>0</td>\n",
       "      <td>1</td>\n",
       "      <td>1</td>\n",
       "      <td>22</td>\n",
       "      <td>60</td>\n",
       "      <td>0</td>\n",
       "      <td>1</td>\n",
       "      <td>16</td>\n",
       "      <td>0.375</td>\n",
       "    </tr>\n",
       "    <tr>\n",
       "      <th>6</th>\n",
       "      <td>1106900001</td>\n",
       "      <td>5</td>\n",
       "      <td>0</td>\n",
       "      <td>1</td>\n",
       "      <td>1</td>\n",
       "      <td>22</td>\n",
       "      <td>60</td>\n",
       "      <td>0</td>\n",
       "      <td>2</td>\n",
       "      <td>24</td>\n",
       "      <td>0.825</td>\n",
       "    </tr>\n",
       "    <tr>\n",
       "      <th>7</th>\n",
       "      <td>1106900001</td>\n",
       "      <td>5</td>\n",
       "      <td>0</td>\n",
       "      <td>1</td>\n",
       "      <td>1</td>\n",
       "      <td>25</td>\n",
       "      <td>3</td>\n",
       "      <td>0</td>\n",
       "      <td>0</td>\n",
       "      <td>14</td>\n",
       "      <td>1.325</td>\n",
       "    </tr>\n",
       "    <tr>\n",
       "      <th>8</th>\n",
       "      <td>1106900001</td>\n",
       "      <td>5</td>\n",
       "      <td>0</td>\n",
       "      <td>1</td>\n",
       "      <td>1</td>\n",
       "      <td>25</td>\n",
       "      <td>3</td>\n",
       "      <td>0</td>\n",
       "      <td>1</td>\n",
       "      <td>24</td>\n",
       "      <td>0.925</td>\n",
       "    </tr>\n",
       "    <tr>\n",
       "      <th>9</th>\n",
       "      <td>1106900001</td>\n",
       "      <td>5</td>\n",
       "      <td>0</td>\n",
       "      <td>1</td>\n",
       "      <td>1</td>\n",
       "      <td>25</td>\n",
       "      <td>5</td>\n",
       "      <td>0</td>\n",
       "      <td>0</td>\n",
       "      <td>13</td>\n",
       "      <td>1.225</td>\n",
       "    </tr>\n",
       "  </tbody>\n",
       "</table>\n",
       "</div>"
      ],
      "text/plain": [
       "          Run  Event  SubEvent  SubEventStream  exists  string  om  pmt  \\\n",
       "0  1106900001      5         0               1       1       2   1    0   \n",
       "1  1106900001      5         0               1       1      12  44    0   \n",
       "2  1106900001      5         0               1       1      17   4    0   \n",
       "3  1106900001      5         0               1       1      21  14    0   \n",
       "4  1106900001      5         0               1       1      22  60    0   \n",
       "5  1106900001      5         0               1       1      22  60    0   \n",
       "6  1106900001      5         0               1       1      22  60    0   \n",
       "7  1106900001      5         0               1       1      25   3    0   \n",
       "8  1106900001      5         0               1       1      25   3    0   \n",
       "9  1106900001      5         0               1       1      25   5    0   \n",
       "\n",
       "   vector_index  timebin  charge  \n",
       "0             0       24   0.850  \n",
       "1             0       24   0.875  \n",
       "2             0       16   0.825  \n",
       "3             0       22   1.225  \n",
       "4             0       15   1.275  \n",
       "5             1       16   0.375  \n",
       "6             2       24   0.825  \n",
       "7             0       14   1.325  \n",
       "8             1       24   0.925  \n",
       "9             0       13   1.225  "
      ]
     },
     "execution_count": 61,
     "metadata": {},
     "output_type": "execute_result"
    }
   ],
   "source": [
    "get_dataframe_from_hdffile(hdf5_files[1]).head(10)"
   ]
  },
  {
   "cell_type": "code",
   "execution_count": null,
   "metadata": {
    "collapsed": true
   },
   "outputs": [],
   "source": [
    "df_event1_pos = df_event1_pos.drop([\"Run\", \"Event\", \"SubEvent\", \"SubEventStream\", \"exists\", \"pmt\", \"vector_index\"], axis=1)"
   ]
  },
  {
   "cell_type": "code",
   "execution_count": null,
   "metadata": {
    "collapsed": true
   },
   "outputs": [],
   "source": [
    "df_event1_pos.set_index([\"string\",\"om\"], inplace=True)"
   ]
  },
  {
   "cell_type": "code",
   "execution_count": null,
   "metadata": {
    "collapsed": true
   },
   "outputs": [],
   "source": []
  },
  {
   "cell_type": "code",
   "execution_count": null,
   "metadata": {
    "collapsed": true
   },
   "outputs": [],
   "source": []
  },
  {
   "cell_type": "code",
   "execution_count": null,
   "metadata": {
    "collapsed": true,
    "scrolled": true
   },
   "outputs": [],
   "source": [
    "idx"
   ]
  },
  {
   "cell_type": "code",
   "execution_count": null,
   "metadata": {
    "collapsed": true
   },
   "outputs": [],
   "source": [
    "plt.imshow()"
   ]
  },
  {
   "cell_type": "code",
   "execution_count": null,
   "metadata": {
    "collapsed": true,
    "scrolled": true
   },
   "outputs": [],
   "source": [
    "for k in list(idxt.keys())[0:24]:\n",
    "    arr = get_position_in_timebin(idxt,timebin=range(k+1))\n",
    "    #print(arr)\n",
    "    histplot(arr)"
   ]
  },
  {
   "cell_type": "code",
   "execution_count": null,
   "metadata": {
    "collapsed": true
   },
   "outputs": [],
   "source": [
    "idxt209 = get_idxt(df_event209)"
   ]
  },
  {
   "cell_type": "code",
   "execution_count": null,
   "metadata": {
    "collapsed": true,
    "scrolled": true
   },
   "outputs": [],
   "source": [
    "for k in list(idxt209.keys())[0:24]:\n",
    "    arr = get_position_in_timebin(idxt209,timebin=range(k+1))\n",
    "    #print(arr)\n",
    "    histplot(arr)"
   ]
  },
  {
   "cell_type": "code",
   "execution_count": null,
   "metadata": {
    "collapsed": true
   },
   "outputs": [],
   "source": [
    "histplot(get_position_in_timebin(idxt209,timebin=range(23,25)), cbars=True)"
   ]
  },
  {
   "cell_type": "code",
   "execution_count": null,
   "metadata": {
    "collapsed": true
   },
   "outputs": [],
   "source": [
    "histplot(get_position_in_timebin(idxt209, timebin=range(0,24)), cbars=True)"
   ]
  },
  {
   "cell_type": "code",
   "execution_count": null,
   "metadata": {
    "collapsed": true
   },
   "outputs": [],
   "source": [
    "histplot(get_position_in_timebin(idxt209, timebin=range(0,25)), cbars=True)"
   ]
  },
  {
   "cell_type": "code",
   "execution_count": null,
   "metadata": {
    "collapsed": true
   },
   "outputs": [],
   "source": [
    "histplot(get_position_in_timebin(idxt, timebin=range(0,25)), cbars=True, normed=False)"
   ]
  },
  {
   "cell_type": "code",
   "execution_count": null,
   "metadata": {
    "collapsed": true
   },
   "outputs": [],
   "source": [
    "arr = get_position_in_timebin(idxt209, timebin=range(24))[:, :3]\n",
    "arr.shape"
   ]
  },
  {
   "cell_type": "code",
   "execution_count": null,
   "metadata": {
    "collapsed": true
   },
   "outputs": [],
   "source": [
    "arr.T"
   ]
  },
  {
   "cell_type": "code",
   "execution_count": null,
   "metadata": {
    "collapsed": true
   },
   "outputs": [],
   "source": [
    "hist_xyz, _= np.histogramdd(arr, bins=25)"
   ]
  },
  {
   "cell_type": "code",
   "execution_count": null,
   "metadata": {
    "collapsed": true
   },
   "outputs": [],
   "source": []
  },
  {
   "cell_type": "code",
   "execution_count": null,
   "metadata": {
    "collapsed": true
   },
   "outputs": [],
   "source": []
  },
  {
   "cell_type": "code",
   "execution_count": null,
   "metadata": {
    "collapsed": true
   },
   "outputs": [],
   "source": [
    "hist_txyz[0,:,:,:] ==  np.histogramdd(get_position_in_timebin(idxt209, timebin=0)[:, :3], bins=25)[0]"
   ]
  },
  {
   "cell_type": "code",
   "execution_count": null,
   "metadata": {
    "collapsed": true
   },
   "outputs": [],
   "source": []
  },
  {
   "cell_type": "code",
   "execution_count": null,
   "metadata": {
    "collapsed": true
   },
   "outputs": [],
   "source": [
    "h5file = tables.open_file(\"formatted.hdf5\", mode=\"w\",\n",
    "                          title=\"Formatted mcdata\")"
   ]
  },
  {
   "cell_type": "code",
   "execution_count": null,
   "metadata": {
    "collapsed": true
   },
   "outputs": [],
   "source": [
    "group_data = h5file.create_group(\"/\", \"mcdata\", \"4d binned mcdata.\")"
   ]
  },
  {
   "cell_type": "code",
   "execution_count": null,
   "metadata": {
    "collapsed": true
   },
   "outputs": [],
   "source": [
    "group_metadata = h5file.create_group(\"/\", \"metadata\", \"metadata.\")"
   ]
  },
  {
   "cell_type": "code",
   "execution_count": null,
   "metadata": {
    "collapsed": true
   },
   "outputs": [],
   "source": [
    "table = h5file.create_array(group_data, \"event209\", hist_txyz,\n",
    "                            title=\"txyz data\")"
   ]
  },
  {
   "cell_type": "code",
   "execution_count": null,
   "metadata": {
    "collapsed": true
   },
   "outputs": [],
   "source": [
    "group_metadata"
   ]
  },
  {
   "cell_type": "code",
   "execution_count": null,
   "metadata": {
    "collapsed": true
   },
   "outputs": [],
   "source": [
    "table.flush()"
   ]
  },
  {
   "cell_type": "code",
   "execution_count": null,
   "metadata": {
    "collapsed": true
   },
   "outputs": [],
   "source": [
    "h5file.flush()"
   ]
  },
  {
   "cell_type": "code",
   "execution_count": null,
   "metadata": {
    "collapsed": true
   },
   "outputs": [],
   "source": [
    "h5file.close()"
   ]
  },
  {
   "cell_type": "code",
   "execution_count": null,
   "metadata": {
    "collapsed": true
   },
   "outputs": [],
   "source": [
    "!rm formatted.hdf5"
   ]
  },
  {
   "cell_type": "code",
   "execution_count": null,
   "metadata": {
    "collapsed": true
   },
   "outputs": [],
   "source": [
    "h5file = tables.open_file(\"formatted.hdf5\", mode=\"r\",\n",
    "                          title=\"Formatted mcdata\")"
   ]
  },
  {
   "cell_type": "code",
   "execution_count": null,
   "metadata": {
    "collapsed": true
   },
   "outputs": [],
   "source": [
    "test = h5file.get_node(\"/mcdata/event209\").read()"
   ]
  },
  {
   "cell_type": "code",
   "execution_count": null,
   "metadata": {
    "collapsed": true
   },
   "outputs": [],
   "source": []
  },
  {
   "cell_type": "code",
   "execution_count": null,
   "metadata": {
    "collapsed": true
   },
   "outputs": [],
   "source": [
    "h5f.keys()"
   ]
  },
  {
   "cell_type": "code",
   "execution_count": null,
   "metadata": {
    "collapsed": true
   },
   "outputs": [],
   "source": [
    "h5f.close()"
   ]
  },
  {
   "cell_type": "code",
   "execution_count": null,
   "metadata": {
    "collapsed": true
   },
   "outputs": [],
   "source": [
    "plt.imshow(np.log(np.sum(test, axis=(0)).T+1), origin=\"lower\", extent=(-600, 600, -600, 600), cmap=\"viridis\", vmin=0)"
   ]
  },
  {
   "cell_type": "code",
   "execution_count": null,
   "metadata": {
    "collapsed": true
   },
   "outputs": [],
   "source": [
    "hist_xy, _, _ = np.histogram2d(*arr[:,[0,1]].T, bins=(25,25))#, weights=np.log(charges))\n",
    "hist_yz, _, _ = np.histogram2d(*arr[:,[1,2]].T, bins=(25,25))#, weights=np.log(charges))\n",
    "hist_xz, _, _ = np.histogram2d(*arr[:,[0,2]].T, bins=(25,25))#, weights=np.log(charges))\n",
    "\n",
    "fig, axes = plt.subplots(nrows=1, ncols=3)\n",
    "ax_xy, ax_yz, ax_xz = np.ravel(axes)\n",
    "ax_xy.set_xlabel(\"x\")\n",
    "ax_xy.set_ylabel(\"y\")\n",
    "ax_yz.set_xlabel(\"y\")\n",
    "ax_yz.set_ylabel(\"z\")\n",
    "ax_xz.set_xlabel(\"x\")\n",
    "ax_xz.set_ylabel(\"z\")\n",
    "\n",
    "ax_xy.set_aspect(\"equal\")\n",
    "ax_xy.imshow(hist_xy.T, origin=\"lower\", extent=(-650, 650, -650, 650))\n",
    "#ax_yz.imshow(hist_yz.T, origin=\"lower\", extent=(-650, 650, -650, 650))\n",
    "#ax_xz.imshow(hist_xz.T, origin=\"lower\", extent=(-650, 650, -650, 650))"
   ]
  },
  {
   "cell_type": "code",
   "execution_count": null,
   "metadata": {
    "collapsed": true
   },
   "outputs": [],
   "source": [
    "hist, edges_x, edges_y = np.histogram2d(event1_xy.T[0], event1_xy.T[1], bins=(100,100), weights=charges)\n",
    "plt.imshow(hist)"
   ]
  },
  {
   "cell_type": "code",
   "execution_count": null,
   "metadata": {
    "collapsed": true
   },
   "outputs": [],
   "source": []
  },
  {
   "cell_type": "code",
   "execution_count": null,
   "metadata": {
    "collapsed": true
   },
   "outputs": [],
   "source": [
    "fig, ax = plt.subplots(1,1)\n",
    "_  = ax.hist2d(*event1_pos[:,[0,1]].T, bins=(20,20), cmap=\"viridis\")\n",
    "ax.grid(False)\n",
    "ax.set_aspect(1)\n"
   ]
  },
  {
   "cell_type": "code",
   "execution_count": null,
   "metadata": {
    "collapsed": true
   },
   "outputs": [],
   "source": []
  },
  {
   "cell_type": "code",
   "execution_count": null,
   "metadata": {
    "collapsed": true
   },
   "outputs": [],
   "source": []
  },
  {
   "cell_type": "code",
   "execution_count": null,
   "metadata": {
    "collapsed": true
   },
   "outputs": [],
   "source": []
  },
  {
   "cell_type": "code",
   "execution_count": null,
   "metadata": {
    "collapsed": true
   },
   "outputs": [],
   "source": []
  },
  {
   "cell_type": "code",
   "execution_count": null,
   "metadata": {
    "collapsed": true
   },
   "outputs": [],
   "source": []
  },
  {
   "cell_type": "code",
   "execution_count": null,
   "metadata": {
    "collapsed": true
   },
   "outputs": [],
   "source": []
  },
  {
   "cell_type": "code",
   "execution_count": null,
   "metadata": {
    "collapsed": true
   },
   "outputs": [],
   "source": []
  },
  {
   "cell_type": "code",
   "execution_count": null,
   "metadata": {
    "collapsed": true,
    "scrolled": false
   },
   "outputs": [],
   "source": [
    "import pandas as pd\n",
    "import numpy as np\n",
    "from pprint import pprint\n",
    "\n",
    "np.random.seed(123)\n",
    "data_0 = {\"index0\":np.random.randint(0,20,size=50), \"index1\":np.random.randint(0,20,size=50),\n",
    "          \"column00\":np.random.uniform(0,1,size=50), \"column10\":np.random.uniform(0,10,size=50)}\n",
    "data_1 = {\"index0\":np.random.randint(0,20,size=45), \"index1\":np.random.randint(0,20,size=45),\n",
    "          \"column01\":np.random.uniform(0,1,size=45), \"column11\":np.random.uniform(0,100,size=45)}\n",
    "\n",
    "order = [\"index0\", \"index1\",\"column00\",\"column01\",\"column10\",\"column11\"]\n",
    "df_0 = pd.DataFrame(data_0)\n",
    "print(\"first dataset:\",end=\"\\n\\n\")\n",
    "print(df_0.head(14))\n",
    "print(\"\\nwith multi-indices:\",end=\"\\n\\n\")\n",
    "print(df_0.set_index([\"index0\", \"index1\"]).sort_index().head(14))\n",
    "print(\"number of rows:\", len(df_0))\n",
    "\n",
    "df_1 = pd.DataFrame(data_1)\n",
    "print(\"\\nsecond dataset:\",end=\"\\n\\n\")\n",
    "print(df_1.head(14))\n",
    "print(\"\\nwith multi-indices\",end=\"\\n\\n\")\n",
    "print(df_1.set_index([\"index0\", \"index1\"]).sort_index().head(14))\n",
    "print(\"number of rows:\", len(df_1))\n",
    "\n",
    "\n",
    "print(\"\\n dataframes merged and sorted on both index columns:\", end=\"\\n\\n\")\n",
    "merged = pd.merge(df_0, df_1, on=(\"index0\",\"index1\"), sort=True)\n",
    "merged = merged.reindex_axis(order, axis=1)\n",
    "merged.set_index([\"index0\", \"index1\"], inplace=True)\n",
    "merged.sort_index(inplace=True)\n",
    "print(merged)\n",
    "print(\"number of rows:\", len(merged))\n",
    "\n",
    "\n",
    "print(\"\\nfirst dataset, without merged rows:\",end=\"\\n\\n\")\n",
    "df_0_new = df_0.set_index([\"index0\", \"index1\"]).drop(merged.index,axis=0).sort_index().reset_index()\n",
    "print(df_0_new.head(14))\n",
    "print(\"number of rows:\", len(df_0_new))\n",
    "\n",
    "print(\"\\nsecond dataset, without merged rows:\",end=\"\\n\\n\")\n",
    "df_1_new = df_1.set_index([\"index0\", \"index1\"]).drop(merged.index,axis=0).sort_index().reset_index()\n",
    "print(df_1_new.head(14))\n",
    "print(\"number of rows:\", len(df_1_new))"
   ]
  },
  {
   "cell_type": "code",
   "execution_count": null,
   "metadata": {
    "collapsed": true
   },
   "outputs": [],
   "source": [
    "df_0.index"
   ]
  },
  {
   "cell_type": "code",
   "execution_count": null,
   "metadata": {
    "collapsed": true
   },
   "outputs": [],
   "source": [
    "print(df_0.index.levels[0][df_0.index.labels[0]])\n",
    "print(df_0.index.levels[1][df_0.index.labels[1]])"
   ]
  },
  {
   "cell_type": "code",
   "execution_count": null,
   "metadata": {
    "collapsed": true
   },
   "outputs": [],
   "source": [
    "pprint(data_0)\n",
    "pprint(data_1)"
   ]
  },
  {
   "cell_type": "code",
   "execution_count": null,
   "metadata": {
    "collapsed": true
   },
   "outputs": [],
   "source": [
    "import scipy as sci\n",
    "from scipy.spatial import ConvexHull"
   ]
  },
  {
   "cell_type": "code",
   "execution_count": null,
   "metadata": {
    "collapsed": true
   },
   "outputs": [],
   "source": [
    "np.random.seed(123)"
   ]
  },
  {
   "cell_type": "code",
   "execution_count": null,
   "metadata": {
    "collapsed": true
   },
   "outputs": [],
   "source": [
    "positions = np.random.uniform(0,3, size=(10,2))\n",
    "positions[:,:]"
   ]
  },
  {
   "cell_type": "code",
   "execution_count": null,
   "metadata": {
    "collapsed": true
   },
   "outputs": [],
   "source": [
    "print(positions)"
   ]
  },
  {
   "cell_type": "code",
   "execution_count": null,
   "metadata": {
    "collapsed": true
   },
   "outputs": [],
   "source": [
    "print(*positions)"
   ]
  },
  {
   "cell_type": "code",
   "execution_count": null,
   "metadata": {
    "collapsed": true
   },
   "outputs": [],
   "source": [
    "print(positions[0], positions[1], positions[2])"
   ]
  },
  {
   "cell_type": "code",
   "execution_count": null,
   "metadata": {
    "collapsed": true
   },
   "outputs": [],
   "source": [
    "positions.T"
   ]
  },
  {
   "cell_type": "code",
   "execution_count": null,
   "metadata": {
    "collapsed": true
   },
   "outputs": [],
   "source": [
    "print(*positions.T)"
   ]
  },
  {
   "cell_type": "code",
   "execution_count": null,
   "metadata": {
    "collapsed": true
   },
   "outputs": [],
   "source": [
    "CH = ConvexHull(positions)"
   ]
  },
  {
   "cell_type": "code",
   "execution_count": null,
   "metadata": {
    "collapsed": true
   },
   "outputs": [],
   "source": [
    "CH.vertices"
   ]
  },
  {
   "cell_type": "code",
   "execution_count": null,
   "metadata": {
    "collapsed": true
   },
   "outputs": [],
   "source": [
    "CH.points"
   ]
  },
  {
   "cell_type": "code",
   "execution_count": null,
   "metadata": {
    "collapsed": true
   },
   "outputs": [],
   "source": [
    "x"
   ]
  },
  {
   "cell_type": "code",
   "execution_count": null,
   "metadata": {
    "collapsed": true
   },
   "outputs": [],
   "source": []
  },
  {
   "cell_type": "code",
   "execution_count": null,
   "metadata": {
    "collapsed": true
   },
   "outputs": [],
   "source": [
    "CH.points[CH.vertices][[0,-1],:]"
   ]
  },
  {
   "cell_type": "code",
   "execution_count": null,
   "metadata": {
    "collapsed": true
   },
   "outputs": [],
   "source": [
    "CH.simplices"
   ]
  },
  {
   "cell_type": "code",
   "execution_count": null,
   "metadata": {
    "collapsed": true
   },
   "outputs": [],
   "source": [
    "CH.points[CH.neighbors]"
   ]
  },
  {
   "cell_type": "code",
   "execution_count": null,
   "metadata": {
    "collapsed": true
   },
   "outputs": [],
   "source": [
    "CH.neighbors"
   ]
  },
  {
   "cell_type": "code",
   "execution_count": null,
   "metadata": {
    "collapsed": true
   },
   "outputs": [],
   "source": [
    "plt.plot(*CH.points.T, \"ro\")\n",
    "plt.plot(*CH.points[CH.vertices].T,\"go\")\n",
    "plt.plot(*CH.points[CH.vertices].T,\"b\")\n",
    "plt.plot(*CH.points[CH.vertices][[0,-1],:].T,\"b\")\n",
    "plt.plot(*CH.points[CH.vertices][CH.neighbors[:,0]].T,\"yo\")\n",
    "for i,point in enumerate(CH.points):\n",
    "    plt.annotate(str(i), xy=point, fontsize=16)\n",
    "for i,point in enumerate(CH.points[CH.vertices]):\n",
    "    plt.annotate(str(i), xy=point, xytext=point+np.array([-0.05,0.01]),fontsize=16, color=\"g\")\n",
    "#plt.plot([1,2,3,4,5], \"o\")\n"
   ]
  },
  {
   "cell_type": "code",
   "execution_count": null,
   "metadata": {
    "collapsed": true
   },
   "outputs": [],
   "source": [
    "L = [1,2,3,4]"
   ]
  },
  {
   "cell_type": "code",
   "execution_count": null,
   "metadata": {
    "collapsed": true
   },
   "outputs": [],
   "source": [
    "L[]"
   ]
  },
  {
   "cell_type": "code",
   "execution_count": null,
   "metadata": {
    "collapsed": true
   },
   "outputs": [],
   "source": [
    "import matplotlib as mpl\n",
    "mpl.rcParams[\"figure.figsize\"]=(16,9)"
   ]
  },
  {
   "cell_type": "code",
   "execution_count": null,
   "metadata": {
    "collapsed": true
   },
   "outputs": [],
   "source": [
    "points = np.random.rand(30, 2) "
   ]
  },
  {
   "cell_type": "code",
   "execution_count": null,
   "metadata": {
    "collapsed": true
   },
   "outputs": [],
   "source": [
    "# Convex hull of a random set of points:\n",
    "\n",
    "from scipy.spatial import ConvexHull\n",
    "  # 30 random points in 2-D\n",
    "hull = ConvexHull(points)\n",
    "\n",
    "# Plot it:\n",
    "\n",
    "import matplotlib.pyplot as plt\n",
    "plt.plot(points[:,0], points[:,1], 'o')\n",
    "for simplex in hull.simplices:\n",
    "    print(simplex)\n",
    "    print(points[simplex, 0], \"->\", points[simplex,1])\n",
    "    plt.plot(points[simplex, 0], points[simplex, 1], 'k-')\n",
    "\n",
    "# We could also have directly used the vertices of the hull, which\n",
    "# for 2-D are guaranteed to be in counterclockwise order:\n",
    "\n",
    "plt.plot(points[hull.vertices,0], points[hull.vertices,1], 'r--', lw=2)\n",
    "plt.plot(points[hull.vertices[0],0], points[hull.vertices[0],1], 'ro')\n",
    "for i,point in enumerate(points):\n",
    "    plt.annotate(str(i), xy=point)\n",
    "plt.show()"
   ]
  }
 ],
 "metadata": {
  "anaconda-cloud": {},
  "kernelspec": {
   "display_name": "Python [conda root]",
   "language": "python",
   "name": "conda-root-py"
  },
  "language_info": {
   "codemirror_mode": {
    "name": "ipython",
    "version": 3
   },
   "file_extension": ".py",
   "mimetype": "text/x-python",
   "name": "python",
   "nbconvert_exporter": "python",
   "pygments_lexer": "ipython3",
   "version": "3.5.3"
  }
 },
 "nbformat": 4,
 "nbformat_minor": 1
}
